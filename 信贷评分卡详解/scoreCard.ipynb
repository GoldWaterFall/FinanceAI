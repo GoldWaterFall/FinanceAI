{
 "cells": [
  {
   "cell_type": "code",
   "execution_count": 11,
   "metadata": {},
   "outputs": [],
   "source": [
    "import pandas as pd\n",
    "import numpy as np\n",
    "import matplotlib.pyplot as plt\n",
    "import seaborn as sns\n",
    "import warnings\n",
    "from sklearn.preprocessing import LabelEncoder\n",
    "from sklearn.ensemble import RandomForestClassifier\n",
    "from sklearn.model_selection import train_test_split\n",
    "from sklearn.metrics import roc_curve,auc\n",
    "from wordcloud import WordCloud\n",
    "import joblib\n",
    "from sklearn.preprocessing import MinMaxScaler\n",
    "from sklearn.cluster import KMeans\n",
    "from pylab import mpl\n",
    "from sklearn.linear_model import LogisticRegression\n",
    "from sklearn.model_selection import train_test_split\n",
    "from sklearn import metrics\n",
    "from sklearn.metrics import accuracy_score\n",
    "import warnings\n",
    "warnings.filterwarnings('ignore')"
   ]
  },
  {
   "cell_type": "code",
   "execution_count": 12,
   "metadata": {},
   "outputs": [
    {
     "data": {
      "text/html": [
       "<div>\n",
       "<style scoped>\n",
       "    .dataframe tbody tr th:only-of-type {\n",
       "        vertical-align: middle;\n",
       "    }\n",
       "\n",
       "    .dataframe tbody tr th {\n",
       "        vertical-align: top;\n",
       "    }\n",
       "\n",
       "    .dataframe thead th {\n",
       "        text-align: right;\n",
       "    }\n",
       "</style>\n",
       "<table border=\"1\" class=\"dataframe\">\n",
       "  <thead>\n",
       "    <tr style=\"text-align: right;\">\n",
       "      <th></th>\n",
       "      <th>ID</th>\n",
       "      <th>SeriousDlqin2yrs</th>\n",
       "      <th>RevolvingUtilizationOfUnsecuredLines</th>\n",
       "      <th>age</th>\n",
       "      <th>NumberOfTime30-59DaysPastDueNotWorse</th>\n",
       "      <th>DebtRatio</th>\n",
       "      <th>MonthlyIncome</th>\n",
       "      <th>NumberOfOpenCreditLinesAndLoans</th>\n",
       "      <th>NumberOfTimes90DaysLate</th>\n",
       "      <th>NumberRealEstateLoansOrLines</th>\n",
       "      <th>NumberOfTime60-89DaysPastDueNotWorse</th>\n",
       "      <th>NumberOfDependents</th>\n",
       "    </tr>\n",
       "  </thead>\n",
       "  <tbody>\n",
       "    <tr>\n",
       "      <th>0</th>\n",
       "      <td>1</td>\n",
       "      <td>1</td>\n",
       "      <td>0.766127</td>\n",
       "      <td>45</td>\n",
       "      <td>2</td>\n",
       "      <td>0.802982</td>\n",
       "      <td>9120.0</td>\n",
       "      <td>13</td>\n",
       "      <td>0</td>\n",
       "      <td>6</td>\n",
       "      <td>0</td>\n",
       "      <td>2.0</td>\n",
       "    </tr>\n",
       "    <tr>\n",
       "      <th>1</th>\n",
       "      <td>2</td>\n",
       "      <td>0</td>\n",
       "      <td>0.957151</td>\n",
       "      <td>40</td>\n",
       "      <td>0</td>\n",
       "      <td>0.121876</td>\n",
       "      <td>2600.0</td>\n",
       "      <td>4</td>\n",
       "      <td>0</td>\n",
       "      <td>0</td>\n",
       "      <td>0</td>\n",
       "      <td>1.0</td>\n",
       "    </tr>\n",
       "    <tr>\n",
       "      <th>2</th>\n",
       "      <td>3</td>\n",
       "      <td>0</td>\n",
       "      <td>0.658180</td>\n",
       "      <td>38</td>\n",
       "      <td>1</td>\n",
       "      <td>0.085113</td>\n",
       "      <td>3042.0</td>\n",
       "      <td>2</td>\n",
       "      <td>1</td>\n",
       "      <td>0</td>\n",
       "      <td>0</td>\n",
       "      <td>0.0</td>\n",
       "    </tr>\n",
       "    <tr>\n",
       "      <th>3</th>\n",
       "      <td>4</td>\n",
       "      <td>0</td>\n",
       "      <td>0.233810</td>\n",
       "      <td>30</td>\n",
       "      <td>0</td>\n",
       "      <td>0.036050</td>\n",
       "      <td>3300.0</td>\n",
       "      <td>5</td>\n",
       "      <td>0</td>\n",
       "      <td>0</td>\n",
       "      <td>0</td>\n",
       "      <td>0.0</td>\n",
       "    </tr>\n",
       "    <tr>\n",
       "      <th>4</th>\n",
       "      <td>5</td>\n",
       "      <td>0</td>\n",
       "      <td>0.907239</td>\n",
       "      <td>49</td>\n",
       "      <td>1</td>\n",
       "      <td>0.024926</td>\n",
       "      <td>63588.0</td>\n",
       "      <td>7</td>\n",
       "      <td>0</td>\n",
       "      <td>1</td>\n",
       "      <td>0</td>\n",
       "      <td>0.0</td>\n",
       "    </tr>\n",
       "  </tbody>\n",
       "</table>\n",
       "</div>"
      ],
      "text/plain": [
       "   ID  SeriousDlqin2yrs  RevolvingUtilizationOfUnsecuredLines  age  \\\n",
       "0   1                 1                              0.766127   45   \n",
       "1   2                 0                              0.957151   40   \n",
       "2   3                 0                              0.658180   38   \n",
       "3   4                 0                              0.233810   30   \n",
       "4   5                 0                              0.907239   49   \n",
       "\n",
       "   NumberOfTime30-59DaysPastDueNotWorse  DebtRatio  MonthlyIncome  \\\n",
       "0                                     2   0.802982         9120.0   \n",
       "1                                     0   0.121876         2600.0   \n",
       "2                                     1   0.085113         3042.0   \n",
       "3                                     0   0.036050         3300.0   \n",
       "4                                     1   0.024926        63588.0   \n",
       "\n",
       "   NumberOfOpenCreditLinesAndLoans  NumberOfTimes90DaysLate  \\\n",
       "0                               13                        0   \n",
       "1                                4                        0   \n",
       "2                                2                        1   \n",
       "3                                5                        0   \n",
       "4                                7                        0   \n",
       "\n",
       "   NumberRealEstateLoansOrLines  NumberOfTime60-89DaysPastDueNotWorse  \\\n",
       "0                             6                                     0   \n",
       "1                             0                                     0   \n",
       "2                             0                                     0   \n",
       "3                             0                                     0   \n",
       "4                             1                                     0   \n",
       "\n",
       "   NumberOfDependents  \n",
       "0                 2.0  \n",
       "1                 1.0  \n",
       "2                 0.0  \n",
       "3                 0.0  \n",
       "4                 0.0  "
      ]
     },
     "execution_count": 12,
     "metadata": {},
     "output_type": "execute_result"
    }
   ],
   "source": [
    "df=pd.read_csv('data/cs-training.csv')\n",
    "df.head()"
   ]
  },
  {
   "cell_type": "markdown",
   "metadata": {},
   "source": [
    "# 查看各字段名"
   ]
  },
  {
   "cell_type": "code",
   "execution_count": 13,
   "metadata": {
    "scrolled": true
   },
   "outputs": [
    {
     "name": "stdout",
     "output_type": "stream",
     "text": [
      "<class 'pandas.core.frame.DataFrame'>\n",
      "RangeIndex: 150000 entries, 0 to 149999\n",
      "Data columns (total 12 columns):\n",
      " #   Column                                Non-Null Count   Dtype  \n",
      "---  ------                                --------------   -----  \n",
      " 0   ID                                    150000 non-null  int64  \n",
      " 1   SeriousDlqin2yrs                      150000 non-null  int64  \n",
      " 2   RevolvingUtilizationOfUnsecuredLines  150000 non-null  float64\n",
      " 3   age                                   150000 non-null  int64  \n",
      " 4   NumberOfTime30-59DaysPastDueNotWorse  150000 non-null  int64  \n",
      " 5   DebtRatio                             150000 non-null  float64\n",
      " 6   MonthlyIncome                         120269 non-null  float64\n",
      " 7   NumberOfOpenCreditLinesAndLoans       150000 non-null  int64  \n",
      " 8   NumberOfTimes90DaysLate               150000 non-null  int64  \n",
      " 9   NumberRealEstateLoansOrLines          150000 non-null  int64  \n",
      " 10  NumberOfTime60-89DaysPastDueNotWorse  150000 non-null  int64  \n",
      " 11  NumberOfDependents                    146076 non-null  float64\n",
      "dtypes: float64(4), int64(8)\n",
      "memory usage: 13.7 MB\n"
     ]
    }
   ],
   "source": [
    "df.info()"
   ]
  },
  {
   "cell_type": "markdown",
   "metadata": {},
   "source": [
    "# 有12列数据，将ID列设置为索引列"
   ]
  },
  {
   "cell_type": "code",
   "execution_count": 14,
   "metadata": {},
   "outputs": [
    {
     "data": {
      "text/plain": [
       "12"
      ]
     },
     "execution_count": 14,
     "metadata": {},
     "output_type": "execute_result"
    }
   ],
   "source": [
    "len(df.columns)"
   ]
  },
  {
   "cell_type": "code",
   "execution_count": 15,
   "metadata": {},
   "outputs": [
    {
     "data": {
      "text/html": [
       "<div>\n",
       "<style scoped>\n",
       "    .dataframe tbody tr th:only-of-type {\n",
       "        vertical-align: middle;\n",
       "    }\n",
       "\n",
       "    .dataframe tbody tr th {\n",
       "        vertical-align: top;\n",
       "    }\n",
       "\n",
       "    .dataframe thead th {\n",
       "        text-align: right;\n",
       "    }\n",
       "</style>\n",
       "<table border=\"1\" class=\"dataframe\">\n",
       "  <thead>\n",
       "    <tr style=\"text-align: right;\">\n",
       "      <th></th>\n",
       "      <th>SeriousDlqin2yrs</th>\n",
       "      <th>RevolvingUtilizationOfUnsecuredLines</th>\n",
       "      <th>age</th>\n",
       "      <th>NumberOfTime30-59DaysPastDueNotWorse</th>\n",
       "      <th>DebtRatio</th>\n",
       "      <th>MonthlyIncome</th>\n",
       "      <th>NumberOfOpenCreditLinesAndLoans</th>\n",
       "      <th>NumberOfTimes90DaysLate</th>\n",
       "      <th>NumberRealEstateLoansOrLines</th>\n",
       "      <th>NumberOfTime60-89DaysPastDueNotWorse</th>\n",
       "      <th>NumberOfDependents</th>\n",
       "    </tr>\n",
       "    <tr>\n",
       "      <th>ID</th>\n",
       "      <th></th>\n",
       "      <th></th>\n",
       "      <th></th>\n",
       "      <th></th>\n",
       "      <th></th>\n",
       "      <th></th>\n",
       "      <th></th>\n",
       "      <th></th>\n",
       "      <th></th>\n",
       "      <th></th>\n",
       "      <th></th>\n",
       "    </tr>\n",
       "  </thead>\n",
       "  <tbody>\n",
       "    <tr>\n",
       "      <th>1</th>\n",
       "      <td>1</td>\n",
       "      <td>0.766127</td>\n",
       "      <td>45</td>\n",
       "      <td>2</td>\n",
       "      <td>0.802982</td>\n",
       "      <td>9120.0</td>\n",
       "      <td>13</td>\n",
       "      <td>0</td>\n",
       "      <td>6</td>\n",
       "      <td>0</td>\n",
       "      <td>2.0</td>\n",
       "    </tr>\n",
       "    <tr>\n",
       "      <th>2</th>\n",
       "      <td>0</td>\n",
       "      <td>0.957151</td>\n",
       "      <td>40</td>\n",
       "      <td>0</td>\n",
       "      <td>0.121876</td>\n",
       "      <td>2600.0</td>\n",
       "      <td>4</td>\n",
       "      <td>0</td>\n",
       "      <td>0</td>\n",
       "      <td>0</td>\n",
       "      <td>1.0</td>\n",
       "    </tr>\n",
       "    <tr>\n",
       "      <th>3</th>\n",
       "      <td>0</td>\n",
       "      <td>0.658180</td>\n",
       "      <td>38</td>\n",
       "      <td>1</td>\n",
       "      <td>0.085113</td>\n",
       "      <td>3042.0</td>\n",
       "      <td>2</td>\n",
       "      <td>1</td>\n",
       "      <td>0</td>\n",
       "      <td>0</td>\n",
       "      <td>0.0</td>\n",
       "    </tr>\n",
       "    <tr>\n",
       "      <th>4</th>\n",
       "      <td>0</td>\n",
       "      <td>0.233810</td>\n",
       "      <td>30</td>\n",
       "      <td>0</td>\n",
       "      <td>0.036050</td>\n",
       "      <td>3300.0</td>\n",
       "      <td>5</td>\n",
       "      <td>0</td>\n",
       "      <td>0</td>\n",
       "      <td>0</td>\n",
       "      <td>0.0</td>\n",
       "    </tr>\n",
       "    <tr>\n",
       "      <th>5</th>\n",
       "      <td>0</td>\n",
       "      <td>0.907239</td>\n",
       "      <td>49</td>\n",
       "      <td>1</td>\n",
       "      <td>0.024926</td>\n",
       "      <td>63588.0</td>\n",
       "      <td>7</td>\n",
       "      <td>0</td>\n",
       "      <td>1</td>\n",
       "      <td>0</td>\n",
       "      <td>0.0</td>\n",
       "    </tr>\n",
       "  </tbody>\n",
       "</table>\n",
       "</div>"
      ],
      "text/plain": [
       "    SeriousDlqin2yrs  RevolvingUtilizationOfUnsecuredLines  age  \\\n",
       "ID                                                                \n",
       "1                  1                              0.766127   45   \n",
       "2                  0                              0.957151   40   \n",
       "3                  0                              0.658180   38   \n",
       "4                  0                              0.233810   30   \n",
       "5                  0                              0.907239   49   \n",
       "\n",
       "    NumberOfTime30-59DaysPastDueNotWorse  DebtRatio  MonthlyIncome  \\\n",
       "ID                                                                   \n",
       "1                                      2   0.802982         9120.0   \n",
       "2                                      0   0.121876         2600.0   \n",
       "3                                      1   0.085113         3042.0   \n",
       "4                                      0   0.036050         3300.0   \n",
       "5                                      1   0.024926        63588.0   \n",
       "\n",
       "    NumberOfOpenCreditLinesAndLoans  NumberOfTimes90DaysLate  \\\n",
       "ID                                                             \n",
       "1                                13                        0   \n",
       "2                                 4                        0   \n",
       "3                                 2                        1   \n",
       "4                                 5                        0   \n",
       "5                                 7                        0   \n",
       "\n",
       "    NumberRealEstateLoansOrLines  NumberOfTime60-89DaysPastDueNotWorse  \\\n",
       "ID                                                                       \n",
       "1                              6                                     0   \n",
       "2                              0                                     0   \n",
       "3                              0                                     0   \n",
       "4                              0                                     0   \n",
       "5                              1                                     0   \n",
       "\n",
       "    NumberOfDependents  \n",
       "ID                      \n",
       "1                  2.0  \n",
       "2                  1.0  \n",
       "3                  0.0  \n",
       "4                  0.0  \n",
       "5                  0.0  "
      ]
     },
     "execution_count": 15,
     "metadata": {},
     "output_type": "execute_result"
    }
   ],
   "source": [
    "df=df.set_index('ID',drop=True)   #设置id列为索引列\n",
    "df.head()"
   ]
  },
  {
   "cell_type": "markdown",
   "metadata": {},
   "source": [
    "# 将各英文字段转为中文字段名方便理解"
   ]
  },
  {
   "cell_type": "code",
   "execution_count": 16,
   "metadata": {},
   "outputs": [
    {
     "data": {
      "text/html": [
       "<div>\n",
       "<style scoped>\n",
       "    .dataframe tbody tr th:only-of-type {\n",
       "        vertical-align: middle;\n",
       "    }\n",
       "\n",
       "    .dataframe tbody tr th {\n",
       "        vertical-align: top;\n",
       "    }\n",
       "\n",
       "    .dataframe thead th {\n",
       "        text-align: right;\n",
       "    }\n",
       "</style>\n",
       "<table border=\"1\" class=\"dataframe\">\n",
       "  <thead>\n",
       "    <tr style=\"text-align: right;\">\n",
       "      <th></th>\n",
       "      <th>好坏客户</th>\n",
       "      <th>可用额度比值</th>\n",
       "      <th>年龄</th>\n",
       "      <th>逾期30-59天笔数</th>\n",
       "      <th>负债率</th>\n",
       "      <th>月收入</th>\n",
       "      <th>信贷数量</th>\n",
       "      <th>逾期90天笔数</th>\n",
       "      <th>固定资产贷款量</th>\n",
       "      <th>逾期60-89天笔数</th>\n",
       "      <th>家属数量</th>\n",
       "    </tr>\n",
       "    <tr>\n",
       "      <th>ID</th>\n",
       "      <th></th>\n",
       "      <th></th>\n",
       "      <th></th>\n",
       "      <th></th>\n",
       "      <th></th>\n",
       "      <th></th>\n",
       "      <th></th>\n",
       "      <th></th>\n",
       "      <th></th>\n",
       "      <th></th>\n",
       "      <th></th>\n",
       "    </tr>\n",
       "  </thead>\n",
       "  <tbody>\n",
       "    <tr>\n",
       "      <th>1</th>\n",
       "      <td>1</td>\n",
       "      <td>0.766127</td>\n",
       "      <td>45</td>\n",
       "      <td>2</td>\n",
       "      <td>0.802982</td>\n",
       "      <td>9120.0</td>\n",
       "      <td>13</td>\n",
       "      <td>0</td>\n",
       "      <td>6</td>\n",
       "      <td>0</td>\n",
       "      <td>2.0</td>\n",
       "    </tr>\n",
       "    <tr>\n",
       "      <th>2</th>\n",
       "      <td>0</td>\n",
       "      <td>0.957151</td>\n",
       "      <td>40</td>\n",
       "      <td>0</td>\n",
       "      <td>0.121876</td>\n",
       "      <td>2600.0</td>\n",
       "      <td>4</td>\n",
       "      <td>0</td>\n",
       "      <td>0</td>\n",
       "      <td>0</td>\n",
       "      <td>1.0</td>\n",
       "    </tr>\n",
       "    <tr>\n",
       "      <th>3</th>\n",
       "      <td>0</td>\n",
       "      <td>0.658180</td>\n",
       "      <td>38</td>\n",
       "      <td>1</td>\n",
       "      <td>0.085113</td>\n",
       "      <td>3042.0</td>\n",
       "      <td>2</td>\n",
       "      <td>1</td>\n",
       "      <td>0</td>\n",
       "      <td>0</td>\n",
       "      <td>0.0</td>\n",
       "    </tr>\n",
       "    <tr>\n",
       "      <th>4</th>\n",
       "      <td>0</td>\n",
       "      <td>0.233810</td>\n",
       "      <td>30</td>\n",
       "      <td>0</td>\n",
       "      <td>0.036050</td>\n",
       "      <td>3300.0</td>\n",
       "      <td>5</td>\n",
       "      <td>0</td>\n",
       "      <td>0</td>\n",
       "      <td>0</td>\n",
       "      <td>0.0</td>\n",
       "    </tr>\n",
       "    <tr>\n",
       "      <th>5</th>\n",
       "      <td>0</td>\n",
       "      <td>0.907239</td>\n",
       "      <td>49</td>\n",
       "      <td>1</td>\n",
       "      <td>0.024926</td>\n",
       "      <td>63588.0</td>\n",
       "      <td>7</td>\n",
       "      <td>0</td>\n",
       "      <td>1</td>\n",
       "      <td>0</td>\n",
       "      <td>0.0</td>\n",
       "    </tr>\n",
       "  </tbody>\n",
       "</table>\n",
       "</div>"
      ],
      "text/plain": [
       "    好坏客户    可用额度比值  年龄  逾期30-59天笔数       负债率      月收入  信贷数量  逾期90天笔数  固定资产贷款量  \\\n",
       "ID                                                                              \n",
       "1      1  0.766127  45           2  0.802982   9120.0    13        0        6   \n",
       "2      0  0.957151  40           0  0.121876   2600.0     4        0        0   \n",
       "3      0  0.658180  38           1  0.085113   3042.0     2        1        0   \n",
       "4      0  0.233810  30           0  0.036050   3300.0     5        0        0   \n",
       "5      0  0.907239  49           1  0.024926  63588.0     7        0        1   \n",
       "\n",
       "    逾期60-89天笔数  家属数量  \n",
       "ID                    \n",
       "1            0   2.0  \n",
       "2            0   1.0  \n",
       "3            0   0.0  \n",
       "4            0   0.0  \n",
       "5            0   0.0  "
      ]
     },
     "execution_count": 16,
     "metadata": {},
     "output_type": "execute_result"
    }
   ],
   "source": [
    "states={'SeriousDlqin2yrs':'好坏客户',\n",
    "        'RevolvingUtilizationOfUnsecuredLines':'可用额度比值',\n",
    "        'age':'年龄',\n",
    "        'NumberOfTime30-59DaysPastDueNotWorse':'逾期30-59天笔数',\n",
    "        'DebtRatio':'负债率',\n",
    "        'MonthlyIncome':'月收入',\n",
    "        'NumberOfOpenCreditLinesAndLoans':'信贷数量',\n",
    "        'NumberOfTimes90DaysLate':'逾期90天笔数',\n",
    "        'NumberRealEstateLoansOrLines':'固定资产贷款量',\n",
    "        'NumberOfTime60-89DaysPastDueNotWorse':'逾期60-89天笔数',\n",
    "        'NumberOfDependents':'家属数量'}\n",
    "df.rename(columns=states,inplace=True)\n",
    "df.head()    #修改英文字段名为中文字段名"
   ]
  },
  {
   "cell_type": "markdown",
   "metadata": {},
   "source": [
    "# 坏客户是1，好客户对应0，"
   ]
  },
  {
   "cell_type": "code",
   "execution_count": 17,
   "metadata": {},
   "outputs": [
    {
     "name": "stdout",
     "output_type": "stream",
     "text": [
      "<class 'pandas.core.frame.DataFrame'>\n",
      "Int64Index: 150000 entries, 1 to 150000\n",
      "Data columns (total 11 columns):\n",
      " #   Column      Non-Null Count   Dtype  \n",
      "---  ------      --------------   -----  \n",
      " 0   好坏客户        150000 non-null  int64  \n",
      " 1   可用额度比值      150000 non-null  float64\n",
      " 2   年龄          150000 non-null  int64  \n",
      " 3   逾期30-59天笔数  150000 non-null  int64  \n",
      " 4   负债率         150000 non-null  float64\n",
      " 5   月收入         120269 non-null  float64\n",
      " 6   信贷数量        150000 non-null  int64  \n",
      " 7   逾期90天笔数     150000 non-null  int64  \n",
      " 8   固定资产贷款量     150000 non-null  int64  \n",
      " 9   逾期60-89天笔数  150000 non-null  int64  \n",
      " 10  家属数量        146076 non-null  float64\n",
      "dtypes: float64(4), int64(7)\n",
      "memory usage: 13.7 MB\n"
     ]
    }
   ],
   "source": [
    "df.info()"
   ]
  },
  {
   "cell_type": "markdown",
   "metadata": {},
   "source": [
    "# 月收入和家属数量存在缺失"
   ]
  },
  {
   "cell_type": "code",
   "execution_count": 18,
   "metadata": {},
   "outputs": [
    {
     "name": "stdout",
     "output_type": "stream",
     "text": [
      "月收入缺失比:19.82%\n"
     ]
    }
   ],
   "source": [
    "print(\"月收入缺失比:{:.2%}\".format(df['月收入'].isnull().sum()/df.shape[0]))"
   ]
  },
  {
   "cell_type": "code",
   "execution_count": 19,
   "metadata": {},
   "outputs": [
    {
     "name": "stdout",
     "output_type": "stream",
     "text": [
      "家属数量缺失比:2.62%\n"
     ]
    }
   ],
   "source": [
    "print(\"家属数量缺失比:{:.2%}\".format(df['家属数量'].isnull().sum()/df.shape[0]))"
   ]
  },
  {
   "cell_type": "code",
   "execution_count": 20,
   "metadata": {},
   "outputs": [
    {
     "data": {
      "text/plain": [
       "(146076, 11)"
      ]
     },
     "execution_count": 20,
     "metadata": {},
     "output_type": "execute_result"
    }
   ],
   "source": [
    "df=df.fillna({'月收入':df['月收入'].mean()})\n",
    "df1=df.dropna()\n",
    "df1.shape"
   ]
  },
  {
   "cell_type": "markdown",
   "metadata": {},
   "source": [
    "# 异常值处理"
   ]
  },
  {
   "cell_type": "code",
   "execution_count": 22,
   "metadata": {},
   "outputs": [
    {
     "ename": "ValueError",
     "evalue": "The number of FixedLocator locations (1), usually from a call to set_ticks, does not match the number of ticklabels (2).",
     "output_type": "error",
     "traceback": [
      "\u001B[1;31m---------------------------------------------------------------------------\u001B[0m",
      "\u001B[1;31mValueError\u001B[0m                                Traceback (most recent call last)",
      "\u001B[1;32m~\\AppData\\Local\\Temp\\ipykernel_14612\\420943864.py\u001B[0m in \u001B[0;36m<module>\u001B[1;34m\u001B[0m\n\u001B[0;32m     16\u001B[0m \u001B[0max1\u001B[0m\u001B[1;33m.\u001B[0m\u001B[0mset_xticklabels\u001B[0m\u001B[1;33m(\u001B[0m\u001B[1;33m[\u001B[0m\u001B[1;34m\"可用额度比值\"\u001B[0m\u001B[1;33m,\u001B[0m\u001B[1;34m\"负债率\"\u001B[0m\u001B[1;33m]\u001B[0m\u001B[1;33m,\u001B[0m \u001B[0mfontsize\u001B[0m\u001B[1;33m=\u001B[0m\u001B[1;36m20\u001B[0m\u001B[1;33m)\u001B[0m\u001B[1;33m\u001B[0m\u001B[1;33m\u001B[0m\u001B[0m\n\u001B[0;32m     17\u001B[0m \u001B[0max2\u001B[0m\u001B[1;33m.\u001B[0m\u001B[0mboxplot\u001B[0m\u001B[1;33m(\u001B[0m\u001B[0mx3\u001B[0m\u001B[1;33m)\u001B[0m\u001B[1;33m\u001B[0m\u001B[1;33m\u001B[0m\u001B[0m\n\u001B[1;32m---> 18\u001B[1;33m \u001B[0max2\u001B[0m\u001B[1;33m.\u001B[0m\u001B[0mset_xticklabels\u001B[0m\u001B[1;33m(\u001B[0m\u001B[1;34m\"年龄\"\u001B[0m\u001B[1;33m,\u001B[0m \u001B[0mfontsize\u001B[0m\u001B[1;33m=\u001B[0m\u001B[1;36m20\u001B[0m\u001B[1;33m)\u001B[0m\u001B[1;33m\u001B[0m\u001B[1;33m\u001B[0m\u001B[0m\n\u001B[0m\u001B[0;32m     19\u001B[0m \u001B[0max3\u001B[0m\u001B[1;33m.\u001B[0m\u001B[0mboxplot\u001B[0m\u001B[1;33m(\u001B[0m\u001B[1;33m[\u001B[0m\u001B[0mx4\u001B[0m\u001B[1;33m,\u001B[0m\u001B[0mx5\u001B[0m\u001B[1;33m,\u001B[0m\u001B[0mx6\u001B[0m\u001B[1;33m]\u001B[0m\u001B[1;33m)\u001B[0m\u001B[1;33m\u001B[0m\u001B[1;33m\u001B[0m\u001B[0m\n\u001B[0;32m     20\u001B[0m \u001B[0max3\u001B[0m\u001B[1;33m.\u001B[0m\u001B[0mset_xticklabels\u001B[0m\u001B[1;33m(\u001B[0m\u001B[1;33m[\u001B[0m\u001B[1;34m\"逾期30-59天笔数\"\u001B[0m\u001B[1;33m,\u001B[0m\u001B[1;34m\"逾期60-89天笔数\"\u001B[0m\u001B[1;33m,\u001B[0m\u001B[1;34m\"逾期90天笔数\"\u001B[0m\u001B[1;33m]\u001B[0m\u001B[1;33m,\u001B[0m \u001B[0mfontsize\u001B[0m\u001B[1;33m=\u001B[0m\u001B[1;36m20\u001B[0m\u001B[1;33m)\u001B[0m\u001B[1;33m\u001B[0m\u001B[1;33m\u001B[0m\u001B[0m\n",
      "\u001B[1;32mc:\\users\\yhd\\appdata\\local\\programs\\python\\python37\\lib\\site-packages\\matplotlib\\axes\\_base.py\u001B[0m in \u001B[0;36mwrapper\u001B[1;34m(self, *args, **kwargs)\u001B[0m\n\u001B[0;32m     71\u001B[0m \u001B[1;33m\u001B[0m\u001B[0m\n\u001B[0;32m     72\u001B[0m         \u001B[1;32mdef\u001B[0m \u001B[0mwrapper\u001B[0m\u001B[1;33m(\u001B[0m\u001B[0mself\u001B[0m\u001B[1;33m,\u001B[0m \u001B[1;33m*\u001B[0m\u001B[0margs\u001B[0m\u001B[1;33m,\u001B[0m \u001B[1;33m**\u001B[0m\u001B[0mkwargs\u001B[0m\u001B[1;33m)\u001B[0m\u001B[1;33m:\u001B[0m\u001B[1;33m\u001B[0m\u001B[1;33m\u001B[0m\u001B[0m\n\u001B[1;32m---> 73\u001B[1;33m             \u001B[1;32mreturn\u001B[0m \u001B[0mget_method\u001B[0m\u001B[1;33m(\u001B[0m\u001B[0mself\u001B[0m\u001B[1;33m)\u001B[0m\u001B[1;33m(\u001B[0m\u001B[1;33m*\u001B[0m\u001B[0margs\u001B[0m\u001B[1;33m,\u001B[0m \u001B[1;33m**\u001B[0m\u001B[0mkwargs\u001B[0m\u001B[1;33m)\u001B[0m\u001B[1;33m\u001B[0m\u001B[1;33m\u001B[0m\u001B[0m\n\u001B[0m\u001B[0;32m     74\u001B[0m \u001B[1;33m\u001B[0m\u001B[0m\n\u001B[0;32m     75\u001B[0m         \u001B[0mwrapper\u001B[0m\u001B[1;33m.\u001B[0m\u001B[0m__module__\u001B[0m \u001B[1;33m=\u001B[0m \u001B[0mowner\u001B[0m\u001B[1;33m.\u001B[0m\u001B[0m__module__\u001B[0m\u001B[1;33m\u001B[0m\u001B[1;33m\u001B[0m\u001B[0m\n",
      "\u001B[1;32mc:\\users\\yhd\\appdata\\local\\programs\\python\\python37\\lib\\site-packages\\matplotlib\\_api\\deprecation.py\u001B[0m in \u001B[0;36mwrapper\u001B[1;34m(*args, **kwargs)\u001B[0m\n\u001B[0;32m    469\u001B[0m                 \u001B[1;34m\"parameter will become keyword-only %(removal)s.\"\u001B[0m\u001B[1;33m,\u001B[0m\u001B[1;33m\u001B[0m\u001B[1;33m\u001B[0m\u001B[0m\n\u001B[0;32m    470\u001B[0m                 name=name, obj_type=f\"parameter of {func.__name__}()\")\n\u001B[1;32m--> 471\u001B[1;33m         \u001B[1;32mreturn\u001B[0m \u001B[0mfunc\u001B[0m\u001B[1;33m(\u001B[0m\u001B[1;33m*\u001B[0m\u001B[0margs\u001B[0m\u001B[1;33m,\u001B[0m \u001B[1;33m**\u001B[0m\u001B[0mkwargs\u001B[0m\u001B[1;33m)\u001B[0m\u001B[1;33m\u001B[0m\u001B[1;33m\u001B[0m\u001B[0m\n\u001B[0m\u001B[0;32m    472\u001B[0m \u001B[1;33m\u001B[0m\u001B[0m\n\u001B[0;32m    473\u001B[0m     \u001B[1;32mreturn\u001B[0m \u001B[0mwrapper\u001B[0m\u001B[1;33m\u001B[0m\u001B[1;33m\u001B[0m\u001B[0m\n",
      "\u001B[1;32mc:\\users\\yhd\\appdata\\local\\programs\\python\\python37\\lib\\site-packages\\matplotlib\\axis.py\u001B[0m in \u001B[0;36m_set_ticklabels\u001B[1;34m(self, labels, fontdict, minor, **kwargs)\u001B[0m\n\u001B[0;32m   1793\u001B[0m         \u001B[1;32mif\u001B[0m \u001B[0mfontdict\u001B[0m \u001B[1;32mis\u001B[0m \u001B[1;32mnot\u001B[0m \u001B[1;32mNone\u001B[0m\u001B[1;33m:\u001B[0m\u001B[1;33m\u001B[0m\u001B[1;33m\u001B[0m\u001B[0m\n\u001B[0;32m   1794\u001B[0m             \u001B[0mkwargs\u001B[0m\u001B[1;33m.\u001B[0m\u001B[0mupdate\u001B[0m\u001B[1;33m(\u001B[0m\u001B[0mfontdict\u001B[0m\u001B[1;33m)\u001B[0m\u001B[1;33m\u001B[0m\u001B[1;33m\u001B[0m\u001B[0m\n\u001B[1;32m-> 1795\u001B[1;33m         \u001B[1;32mreturn\u001B[0m \u001B[0mself\u001B[0m\u001B[1;33m.\u001B[0m\u001B[0mset_ticklabels\u001B[0m\u001B[1;33m(\u001B[0m\u001B[0mlabels\u001B[0m\u001B[1;33m,\u001B[0m \u001B[0mminor\u001B[0m\u001B[1;33m=\u001B[0m\u001B[0mminor\u001B[0m\u001B[1;33m,\u001B[0m \u001B[1;33m**\u001B[0m\u001B[0mkwargs\u001B[0m\u001B[1;33m)\u001B[0m\u001B[1;33m\u001B[0m\u001B[1;33m\u001B[0m\u001B[0m\n\u001B[0m\u001B[0;32m   1796\u001B[0m \u001B[1;33m\u001B[0m\u001B[0m\n\u001B[0;32m   1797\u001B[0m     \u001B[1;32mdef\u001B[0m \u001B[0mset_ticks\u001B[0m\u001B[1;33m(\u001B[0m\u001B[0mself\u001B[0m\u001B[1;33m,\u001B[0m \u001B[0mticks\u001B[0m\u001B[1;33m,\u001B[0m \u001B[1;33m*\u001B[0m\u001B[1;33m,\u001B[0m \u001B[0mminor\u001B[0m\u001B[1;33m=\u001B[0m\u001B[1;32mFalse\u001B[0m\u001B[1;33m)\u001B[0m\u001B[1;33m:\u001B[0m\u001B[1;33m\u001B[0m\u001B[1;33m\u001B[0m\u001B[0m\n",
      "\u001B[1;32mc:\\users\\yhd\\appdata\\local\\programs\\python\\python37\\lib\\site-packages\\matplotlib\\axis.py\u001B[0m in \u001B[0;36mset_ticklabels\u001B[1;34m(self, ticklabels, minor, **kwargs)\u001B[0m\n\u001B[0;32m   1715\u001B[0m             \u001B[1;32mif\u001B[0m \u001B[0mlen\u001B[0m\u001B[1;33m(\u001B[0m\u001B[0mlocator\u001B[0m\u001B[1;33m.\u001B[0m\u001B[0mlocs\u001B[0m\u001B[1;33m)\u001B[0m \u001B[1;33m!=\u001B[0m \u001B[0mlen\u001B[0m\u001B[1;33m(\u001B[0m\u001B[0mticklabels\u001B[0m\u001B[1;33m)\u001B[0m \u001B[1;32mand\u001B[0m \u001B[0mlen\u001B[0m\u001B[1;33m(\u001B[0m\u001B[0mticklabels\u001B[0m\u001B[1;33m)\u001B[0m \u001B[1;33m!=\u001B[0m \u001B[1;36m0\u001B[0m\u001B[1;33m:\u001B[0m\u001B[1;33m\u001B[0m\u001B[1;33m\u001B[0m\u001B[0m\n\u001B[0;32m   1716\u001B[0m                 raise ValueError(\n\u001B[1;32m-> 1717\u001B[1;33m                     \u001B[1;34m\"The number of FixedLocator locations\"\u001B[0m\u001B[1;33m\u001B[0m\u001B[1;33m\u001B[0m\u001B[0m\n\u001B[0m\u001B[0;32m   1718\u001B[0m                     \u001B[1;34mf\" ({len(locator.locs)}), usually from a call to\"\u001B[0m\u001B[1;33m\u001B[0m\u001B[1;33m\u001B[0m\u001B[0m\n\u001B[0;32m   1719\u001B[0m                     \u001B[1;34m\" set_ticks, does not match\"\u001B[0m\u001B[1;33m\u001B[0m\u001B[1;33m\u001B[0m\u001B[0m\n",
      "\u001B[1;31mValueError\u001B[0m: The number of FixedLocator locations (1), usually from a call to set_ticks, does not match the number of ticklabels (2)."
     ]
    },
    {
     "data": {
      "image/png": "[encoded data removed]",
      "text/plain": [
       "<Figure size 1440x1080 with 4 Axes>"
      ]
     },
     "metadata": {
      "needs_background": "light"
     },
     "output_type": "display_data"
    }
   ],
   "source": [
    "mpl.rcParams['font.sans-serif'] = ['SimHei']\n",
    "x1=df['可用额度比值']\n",
    "x2=df['负债率']\n",
    "x3=df1[\"年龄\"]\n",
    "x4=df1[\"逾期30-59天笔数\"]\n",
    "x5=df1[\"逾期60-89天笔数\"]\n",
    "x6=df1[\"逾期90天笔数\"]\n",
    "x7=df1[\"信贷数量\"]\n",
    "x8=df1[\"固定资产贷款量\"]\n",
    "fig=plt.figure(figsize=(20,15))\n",
    "ax1=fig.add_subplot(221)\n",
    "ax2=fig.add_subplot(222)\n",
    "ax3=fig.add_subplot(223)\n",
    "ax4=fig.add_subplot(224)\n",
    "ax1.boxplot([x1,x2])\n",
    "ax1.set_xticklabels([\"可用额度比值\",\"负债率\"], fontsize=20)\n",
    "ax2.boxplot(x3)\n",
    "ax2.set_xticklabels(\"年龄\", fontsize=20)\n",
    "ax3.boxplot([x4,x5,x6])\n",
    "ax3.set_xticklabels([\"逾期30-59天笔数\",\"逾期60-89天笔数\",\"逾期90天笔数\"], fontsize=20)\n",
    "ax4.boxplot([x7,x8])\n",
    "ax4.set_xticklabels([\"信贷数量\",\"固定资产贷款量\"], fontsize=20)"
   ]
  },
  {
   "cell_type": "code",
   "execution_count": 25,
   "metadata": {},
   "outputs": [
    {
     "data": {
      "text/plain": [
       "(142559, 11)"
      ]
     },
     "execution_count": 25,
     "metadata": {},
     "output_type": "execute_result"
    }
   ],
   "source": [
    "df1=df1[df1['可用额度比值']<1]\n",
    "df1=df1[df1['年龄']>0]\n",
    "df1=df1[df1['逾期30-59天笔数']<80]\n",
    "df1=df1[df1['逾期60-89天笔数']<80]\n",
    "df1=df1[df1['逾期90天笔数']<80]\n",
    "df1=df1[df1['固定资产贷款量']<50]\n",
    "df1.shape"
   ]
  },
  {
   "cell_type": "markdown",
   "metadata": {},
   "source": [
    "# 探索分析"
   ]
  },
  {
   "cell_type": "code",
   "execution_count": 26,
   "metadata": {},
   "outputs": [
    {
     "data": {
      "text/plain": [
       "年龄\n",
       "(20.914, 38.2]    26984\n",
       "(38.2, 55.4]      56660\n",
       "(55.4, 72.6]      45709\n",
       "(72.6, 89.8]      12640\n",
       "(89.8, 107.0]       566\n",
       "Name: 好坏客户, dtype: int64"
      ]
     },
     "execution_count": 26,
     "metadata": {},
     "output_type": "execute_result"
    }
   ],
   "source": [
    "age_cut=pd.cut(df1['年龄'],5)\n",
    "age_cut_group=df1['好坏客户'].groupby(age_cut).count()\n",
    "age_cut_group"
   ]
  },
  {
   "cell_type": "markdown",
   "metadata": {},
   "source": [
    "# 求各组的坏客户数"
   ]
  },
  {
   "cell_type": "code",
   "execution_count": 27,
   "metadata": {},
   "outputs": [
    {
     "data": {
      "text/plain": [
       "年龄\n",
       "(20.914, 38.2]    2478\n",
       "(38.2, 55.4]      4067\n",
       "(55.4, 72.6]      1664\n",
       "(72.6, 89.8]       273\n",
       "(89.8, 107.0]       12\n",
       "Name: 好坏客户, dtype: int64"
      ]
     },
     "execution_count": 27,
     "metadata": {},
     "output_type": "execute_result"
    }
   ],
   "source": [
    "age_cut_grouped1=df1[\"好坏客户\"].groupby(age_cut).sum()\n",
    "age_cut_grouped1"
   ]
  },
  {
   "cell_type": "markdown",
   "metadata": {},
   "source": [
    "# 联结"
   ]
  },
  {
   "cell_type": "code",
   "execution_count": 28,
   "metadata": {},
   "outputs": [
    {
     "data": {
      "text/html": [
       "<div>\n",
       "<style scoped>\n",
       "    .dataframe tbody tr th:only-of-type {\n",
       "        vertical-align: middle;\n",
       "    }\n",
       "\n",
       "    .dataframe tbody tr th {\n",
       "        vertical-align: top;\n",
       "    }\n",
       "\n",
       "    .dataframe thead th {\n",
       "        text-align: right;\n",
       "    }\n",
       "</style>\n",
       "<table border=\"1\" class=\"dataframe\">\n",
       "  <thead>\n",
       "    <tr style=\"text-align: right;\">\n",
       "      <th></th>\n",
       "      <th>总客户数</th>\n",
       "      <th>坏客户数</th>\n",
       "    </tr>\n",
       "    <tr>\n",
       "      <th>年龄</th>\n",
       "      <th></th>\n",
       "      <th></th>\n",
       "    </tr>\n",
       "  </thead>\n",
       "  <tbody>\n",
       "    <tr>\n",
       "      <th>(20.914, 38.2]</th>\n",
       "      <td>26984</td>\n",
       "      <td>2478</td>\n",
       "    </tr>\n",
       "    <tr>\n",
       "      <th>(38.2, 55.4]</th>\n",
       "      <td>56660</td>\n",
       "      <td>4067</td>\n",
       "    </tr>\n",
       "    <tr>\n",
       "      <th>(55.4, 72.6]</th>\n",
       "      <td>45709</td>\n",
       "      <td>1664</td>\n",
       "    </tr>\n",
       "    <tr>\n",
       "      <th>(72.6, 89.8]</th>\n",
       "      <td>12640</td>\n",
       "      <td>273</td>\n",
       "    </tr>\n",
       "    <tr>\n",
       "      <th>(89.8, 107.0]</th>\n",
       "      <td>566</td>\n",
       "      <td>12</td>\n",
       "    </tr>\n",
       "  </tbody>\n",
       "</table>\n",
       "</div>"
      ],
      "text/plain": [
       "                 总客户数  坏客户数\n",
       "年龄                         \n",
       "(20.914, 38.2]  26984  2478\n",
       "(38.2, 55.4]    56660  4067\n",
       "(55.4, 72.6]    45709  1664\n",
       "(72.6, 89.8]    12640   273\n",
       "(89.8, 107.0]     566    12"
      ]
     },
     "execution_count": 28,
     "metadata": {},
     "output_type": "execute_result"
    }
   ],
   "source": [
    "df2=pd.merge(pd.DataFrame(age_cut_group),pd.DataFrame(age_cut_grouped1),left_index=True,right_index=True)\n",
    "df2.rename(columns={'好坏客户_x':'总客户数','好坏客户_y':'坏客户数'},inplace=True)\n",
    "df2"
   ]
  },
  {
   "cell_type": "markdown",
   "metadata": {},
   "source": [
    "# 加一列好客户数"
   ]
  },
  {
   "cell_type": "code",
   "execution_count": 29,
   "metadata": {},
   "outputs": [
    {
     "data": {
      "text/html": [
       "<div>\n",
       "<style scoped>\n",
       "    .dataframe tbody tr th:only-of-type {\n",
       "        vertical-align: middle;\n",
       "    }\n",
       "\n",
       "    .dataframe tbody tr th {\n",
       "        vertical-align: top;\n",
       "    }\n",
       "\n",
       "    .dataframe thead th {\n",
       "        text-align: right;\n",
       "    }\n",
       "</style>\n",
       "<table border=\"1\" class=\"dataframe\">\n",
       "  <thead>\n",
       "    <tr style=\"text-align: right;\">\n",
       "      <th></th>\n",
       "      <th>总客户数</th>\n",
       "      <th>坏客户数</th>\n",
       "      <th>好客户数</th>\n",
       "    </tr>\n",
       "    <tr>\n",
       "      <th>年龄</th>\n",
       "      <th></th>\n",
       "      <th></th>\n",
       "      <th></th>\n",
       "    </tr>\n",
       "  </thead>\n",
       "  <tbody>\n",
       "    <tr>\n",
       "      <th>(20.914, 38.2]</th>\n",
       "      <td>26984</td>\n",
       "      <td>2478</td>\n",
       "      <td>24506</td>\n",
       "    </tr>\n",
       "    <tr>\n",
       "      <th>(38.2, 55.4]</th>\n",
       "      <td>56660</td>\n",
       "      <td>4067</td>\n",
       "      <td>52593</td>\n",
       "    </tr>\n",
       "    <tr>\n",
       "      <th>(55.4, 72.6]</th>\n",
       "      <td>45709</td>\n",
       "      <td>1664</td>\n",
       "      <td>44045</td>\n",
       "    </tr>\n",
       "    <tr>\n",
       "      <th>(72.6, 89.8]</th>\n",
       "      <td>12640</td>\n",
       "      <td>273</td>\n",
       "      <td>12367</td>\n",
       "    </tr>\n",
       "    <tr>\n",
       "      <th>(89.8, 107.0]</th>\n",
       "      <td>566</td>\n",
       "      <td>12</td>\n",
       "      <td>554</td>\n",
       "    </tr>\n",
       "  </tbody>\n",
       "</table>\n",
       "</div>"
      ],
      "text/plain": [
       "                 总客户数  坏客户数   好客户数\n",
       "年龄                                \n",
       "(20.914, 38.2]  26984  2478  24506\n",
       "(38.2, 55.4]    56660  4067  52593\n",
       "(55.4, 72.6]    45709  1664  44045\n",
       "(72.6, 89.8]    12640   273  12367\n",
       "(89.8, 107.0]     566    12    554"
      ]
     },
     "execution_count": 29,
     "metadata": {},
     "output_type": "execute_result"
    }
   ],
   "source": [
    "df2.insert(2,\"好客户数\",df2[\"总客户数\"]-df2[\"坏客户数\"])\n",
    "df2"
   ]
  },
  {
   "cell_type": "markdown",
   "metadata": {},
   "source": [
    "# 再加一列坏客户占比"
   ]
  },
  {
   "cell_type": "code",
   "execution_count": 30,
   "metadata": {},
   "outputs": [
    {
     "data": {
      "text/html": [
       "<div>\n",
       "<style scoped>\n",
       "    .dataframe tbody tr th:only-of-type {\n",
       "        vertical-align: middle;\n",
       "    }\n",
       "\n",
       "    .dataframe tbody tr th {\n",
       "        vertical-align: top;\n",
       "    }\n",
       "\n",
       "    .dataframe thead th {\n",
       "        text-align: right;\n",
       "    }\n",
       "</style>\n",
       "<table border=\"1\" class=\"dataframe\">\n",
       "  <thead>\n",
       "    <tr style=\"text-align: right;\">\n",
       "      <th></th>\n",
       "      <th>总客户数</th>\n",
       "      <th>坏客户数</th>\n",
       "      <th>坏客户占比</th>\n",
       "      <th>好客户数</th>\n",
       "    </tr>\n",
       "    <tr>\n",
       "      <th>年龄</th>\n",
       "      <th></th>\n",
       "      <th></th>\n",
       "      <th></th>\n",
       "      <th></th>\n",
       "    </tr>\n",
       "  </thead>\n",
       "  <tbody>\n",
       "    <tr>\n",
       "      <th>(20.914, 38.2]</th>\n",
       "      <td>26984</td>\n",
       "      <td>2478</td>\n",
       "      <td>0.091832</td>\n",
       "      <td>24506</td>\n",
       "    </tr>\n",
       "    <tr>\n",
       "      <th>(38.2, 55.4]</th>\n",
       "      <td>56660</td>\n",
       "      <td>4067</td>\n",
       "      <td>0.071779</td>\n",
       "      <td>52593</td>\n",
       "    </tr>\n",
       "    <tr>\n",
       "      <th>(55.4, 72.6]</th>\n",
       "      <td>45709</td>\n",
       "      <td>1664</td>\n",
       "      <td>0.036404</td>\n",
       "      <td>44045</td>\n",
       "    </tr>\n",
       "    <tr>\n",
       "      <th>(72.6, 89.8]</th>\n",
       "      <td>12640</td>\n",
       "      <td>273</td>\n",
       "      <td>0.021598</td>\n",
       "      <td>12367</td>\n",
       "    </tr>\n",
       "    <tr>\n",
       "      <th>(89.8, 107.0]</th>\n",
       "      <td>566</td>\n",
       "      <td>12</td>\n",
       "      <td>0.021201</td>\n",
       "      <td>554</td>\n",
       "    </tr>\n",
       "  </tbody>\n",
       "</table>\n",
       "</div>"
      ],
      "text/plain": [
       "                 总客户数  坏客户数     坏客户占比   好客户数\n",
       "年龄                                          \n",
       "(20.914, 38.2]  26984  2478  0.091832  24506\n",
       "(38.2, 55.4]    56660  4067  0.071779  52593\n",
       "(55.4, 72.6]    45709  1664  0.036404  44045\n",
       "(72.6, 89.8]    12640   273  0.021598  12367\n",
       "(89.8, 107.0]     566    12  0.021201    554"
      ]
     },
     "execution_count": 30,
     "metadata": {},
     "output_type": "execute_result"
    }
   ],
   "source": [
    "df2.insert(2,\"坏客户占比\",df2[\"坏客户数\"]/df2[\"总客户数\"])\n",
    "df2"
   ]
  },
  {
   "cell_type": "code",
   "execution_count": 31,
   "metadata": {},
   "outputs": [
    {
     "data": {
      "text/plain": [
       "Text(0.5, 1.0, '年龄与好坏客户数分布图')"
      ]
     },
     "execution_count": 31,
     "metadata": {},
     "output_type": "execute_result"
    },
    {
     "data": {
      "image/png": "[encoded data removed]",
      "text/plain": [
       "<Figure size 720x360 with 1 Axes>"
      ]
     },
     "metadata": {
      "needs_background": "light"
     },
     "output_type": "display_data"
    }
   ],
   "source": [
    "ax1=df2[[\"好客户数\",\"坏客户数\"]].plot.bar(figsize=(10,5))\n",
    "ax1.set_xticklabels(df2.index,rotation=15)\n",
    "ax1.set_ylabel(\"客户数\")\n",
    "ax1.set_title(\"年龄与好坏客户数分布图\")"
   ]
  },
  {
   "cell_type": "code",
   "execution_count": 74,
   "metadata": {},
   "outputs": [
    {
     "data": {
      "text/plain": [
       "Text(0.5, 1.0, '坏客户率随年龄的变化趋势图')"
      ]
     },
     "execution_count": 74,
     "metadata": {},
     "output_type": "execute_result"
    },
    {
     "data": {
      "image/png": "[encoded data removed]",
      "text/plain": [
       "<Figure size 720x360 with 1 Axes>"
      ]
     },
     "metadata": {
      "needs_background": "light"
     },
     "output_type": "display_data"
    }
   ],
   "source": [
    "ax11=df2[\"坏客户占比\"].plot(figsize=(10,5))\n",
    "ax11.set_xticklabels([0,20,29,38,47,55,64,72,81,89,98])\n",
    "ax11.set_ylabel(\"坏客户率\")\n",
    "ax11.set_title(\"坏客户率随年龄的变化趋势图\")"
   ]
  },
  {
   "cell_type": "markdown",
   "metadata": {},
   "source": [
    "# 多变量分析"
   ]
  },
  {
   "cell_type": "code",
   "execution_count": 75,
   "metadata": {},
   "outputs": [
    {
     "data": {
      "image/png": "[encoded data removed]",
      "text/plain": [
       "<Figure size 1080x720 with 2 Axes>"
      ]
     },
     "metadata": {
      "needs_background": "light"
     },
     "output_type": "display_data"
    }
   ],
   "source": [
    "from matplotlib.font_manager import FontProperties\n",
    "myfont=FontProperties(fname=r'./SimHei.ttf',size=14)\n",
    "\n",
    "#sns.set(font=myfont.get_name())\n",
    "\n",
    "#plt.rcParams['font.sans-serif'] = ['SimHei']  # 中文字体设置-黑体\n",
    "#plt.rcParams['axes.unicode_minus'] = False  # 解决保存图像是负号'-'显示为方块的问题\n",
    "#sns.set(font='SimHei',font_scale=1.5)  # 解决Seaborn中文显示问题并调整字体大小\n",
    "\n",
    "corr = df1.corr()#计算各变量的相关性系数\n",
    "xticks = list(corr.index)#x轴标签\n",
    "yticks = list(corr.index)#y轴标签\n",
    "fig = plt.figure(figsize=(15,10))\n",
    "ax1 = fig.add_subplot(1, 1, 1)\n",
    "sns.heatmap(corr, annot=True, cmap=\"rainbow\",ax=ax1,linewidths=.5, annot_kws={'size': 9, 'weight': 'bold', 'color': 'blue'})\n",
    "ax1.set_xticklabels(xticks, rotation=35, fontsize=15,fontproperties=myfont)\n",
    "ax1.set_yticklabels(yticks, rotation=0, fontsize=15,fontproperties=myfont)\n",
    "plt.show()"
   ]
  },
  {
   "cell_type": "markdown",
   "metadata": {},
   "source": [
    "# 可以看到各变量之间的相关性比较小，所以不需要操作，一般相关系数大于0.6可以进行变量剔除。\n",
    "\n",
    "# 四、特征选择\n"
   ]
  },
  {
   "cell_type": "code",
   "execution_count": 36,
   "metadata": {},
   "outputs": [],
   "source": [
    "cut1=pd.qcut(df1[\"可用额度比值\"],4,labels=False)\n",
    "cut2=pd.qcut(df1[\"年龄\"],8,labels=False)\n",
    "bins3=[-1,0,1,3,5,13]\n",
    "cut3=pd.cut(df1[\"逾期30-59天笔数\"],bins3,labels=False)\n",
    "cut4=pd.qcut(df1[\"负债率\"],3,labels=False)\n",
    "cut5=pd.qcut(df1[\"月收入\"],4,labels=False)\n",
    "cut6=pd.qcut(df1[\"信贷数量\"],4,labels=False)\n",
    "bins7=[-1, 0, 1, 3,5, 20]\n",
    "cut7=pd.cut(df1[\"逾期90天笔数\"],bins7,labels=False)\n",
    "bins8=[-1, 0,1,2, 3, 33]\n",
    "cut8=pd.cut(df1[\"固定资产贷款量\"],bins8,labels=False)\n",
    "bins9=[-1, 0, 1, 3, 12]\n",
    "cut9=pd.cut(df1[\"逾期60-89天笔数\"],bins9,labels=False)\n",
    "bins10=[-1, 0, 1, 2, 3, 5, 21]\n",
    "cut10=pd.cut(df1[\"家属数量\"],bins10,labels=False)"
   ]
  },
  {
   "cell_type": "markdown",
   "metadata": {},
   "source": [
    "# WOE值计算"
   ]
  },
  {
   "cell_type": "code",
   "execution_count": 37,
   "metadata": {},
   "outputs": [],
   "source": [
    "rate=df1[\"好坏客户\"].sum()/(df1[\"好坏客户\"].count()-df1[\"好坏客户\"].sum())\n",
    "def get_woe_data(cut):\n",
    "    grouped=df1[\"好坏客户\"].groupby(cut,as_index = True).value_counts()\n",
    "    woe=np.log(grouped.unstack().iloc[:,1]/grouped.unstack().iloc[:,0]/rate)\n",
    "    return woe\n",
    "cut1_woe=get_woe_data(cut1)\n",
    "cut2_woe=get_woe_data(cut2)\n",
    "cut3_woe=get_woe_data(cut3)\n",
    "cut4_woe=get_woe_data(cut4)\n",
    "cut5_woe=get_woe_data(cut5)\n",
    "cut6_woe=get_woe_data(cut6)\n",
    "cut7_woe=get_woe_data(cut7)\n",
    "cut8_woe=get_woe_data(cut8)\n",
    "cut9_woe=get_woe_data(cut9)\n",
    "cut10_woe=get_woe_data(cut10)"
   ]
  },
  {
   "cell_type": "markdown",
   "metadata": {},
   "source": [
    "# 随便挑几个变量看下woe"
   ]
  },
  {
   "cell_type": "code",
   "execution_count": 38,
   "metadata": {},
   "outputs": [
    {
     "data": {
      "text/plain": [
       "<AxesSubplot:xlabel='可用额度比值'>"
      ]
     },
     "execution_count": 38,
     "metadata": {},
     "output_type": "execute_result"
    },
    {
     "data": {
      "image/png": "[encoded data removed]",
      "text/plain": [
       "<Figure size 432x288 with 1 Axes>"
      ]
     },
     "metadata": {
      "needs_background": "light"
     },
     "output_type": "display_data"
    }
   ],
   "source": [
    "#可用额度比值\n",
    "cut1_woe.plot.bar(color='g',alpha=0.3,rot=0)"
   ]
  },
  {
   "cell_type": "code",
   "execution_count": 39,
   "metadata": {},
   "outputs": [
    {
     "data": {
      "text/plain": [
       "<AxesSubplot:xlabel='年龄'>"
      ]
     },
     "execution_count": 39,
     "metadata": {},
     "output_type": "execute_result"
    },
    {
     "data": {
      "image/png": "[encoded data removed]",
      "text/plain": [
       "<Figure size 432x288 with 1 Axes>"
      ]
     },
     "metadata": {
      "needs_background": "light"
     },
     "output_type": "display_data"
    }
   ],
   "source": [
    "#年龄\n",
    "cut2_woe.plot.bar(color='b',alpha=0.3,rot=0)"
   ]
  },
  {
   "cell_type": "code",
   "execution_count": 40,
   "metadata": {},
   "outputs": [
    {
     "data": {
      "text/plain": [
       "<AxesSubplot:xlabel='逾期30-59天笔数'>"
      ]
     },
     "execution_count": 40,
     "metadata": {},
     "output_type": "execute_result"
    },
    {
     "data": {
      "image/png": "[encoded data removed]",
      "text/plain": [
       "<Figure size 432x288 with 1 Axes>"
      ]
     },
     "metadata": {
      "needs_background": "light"
     },
     "output_type": "display_data"
    }
   ],
   "source": [
    "#逾期30-59天笔数\n",
    "cut3_woe.plot.bar(color='b',alpha=0.3,rot=0)"
   ]
  },
  {
   "cell_type": "markdown",
   "metadata": {},
   "source": [
    "# 可以看出woe已调整到具有单调性"
   ]
  },
  {
   "cell_type": "markdown",
   "metadata": {},
   "source": [
    "# IV值计算"
   ]
  },
  {
   "cell_type": "code",
   "execution_count": 41,
   "metadata": {},
   "outputs": [
    {
     "data": {
      "text/plain": [
       "Text(0, 0.5, 'IV')"
      ]
     },
     "execution_count": 41,
     "metadata": {},
     "output_type": "execute_result"
    },
    {
     "data": {
      "image/png": "[encoded data removed]",
      "text/plain": [
       "<Figure size 720x360 with 1 Axes>"
      ]
     },
     "metadata": {
      "needs_background": "light"
     },
     "output_type": "display_data"
    }
   ],
   "source": [
    "def get_IV_data(cut,cut_woe):\n",
    "    grouped=df1[\"好坏客户\"].groupby(cut,as_index = True).value_counts()\n",
    "    cut_IV=((grouped.unstack().iloc[:,1]/df1[\"好坏客户\"].sum()-grouped.unstack().iloc[:,0]/(df1[\"好坏客户\"].count()-df1[\"好坏客户\"].sum()))*cut_woe).sum()    \n",
    "    return cut_IV\n",
    "#计算各分组的IV值\n",
    "cut1_IV=get_IV_data(cut1,cut1_woe)\n",
    "cut2_IV=get_IV_data(cut2,cut2_woe)\n",
    "cut3_IV=get_IV_data(cut3,cut3_woe)\n",
    "cut4_IV=get_IV_data(cut4,cut4_woe)\n",
    "cut5_IV=get_IV_data(cut5,cut5_woe)\n",
    "cut6_IV=get_IV_data(cut6,cut6_woe)\n",
    "cut7_IV=get_IV_data(cut7,cut7_woe)\n",
    "cut8_IV=get_IV_data(cut8,cut8_woe)\n",
    "cut9_IV=get_IV_data(cut9,cut9_woe)\n",
    "cut10_IV=get_IV_data(cut10,cut10_woe)\n",
    "IV=pd.DataFrame([cut1_IV,cut2_IV,cut3_IV,cut4_IV,cut5_IV,cut6_IV,cut7_IV,cut8_IV,cut9_IV,cut10_IV],index=['可用额度比值','年龄','逾期30-59天笔数','负债率','月收入','信贷数量','逾期90天笔数','固定资产贷款量','逾期60-89天笔数','家属数量'],columns=['IV'])\n",
    "iv=IV.plot.bar(color='b',alpha=0.3,rot=30,figsize=(10,5),fontsize=(10))\n",
    "iv.set_title('特征变量与IV值分布图',fontsize=(15),fontproperties=myfont)\n",
    "iv.set_xlabel('特征变量',fontsize=(15),fontproperties=myfont)\n",
    "iv.set_ylabel('IV',fontsize=(15),fontproperties=myfont)\n"
   ]
  },
  {
   "cell_type": "code",
   "execution_count": 42,
   "metadata": {},
   "outputs": [
    {
     "data": {
      "text/html": [
       "<div>\n",
       "<style scoped>\n",
       "    .dataframe tbody tr th:only-of-type {\n",
       "        vertical-align: middle;\n",
       "    }\n",
       "\n",
       "    .dataframe tbody tr th {\n",
       "        vertical-align: top;\n",
       "    }\n",
       "\n",
       "    .dataframe thead th {\n",
       "        text-align: right;\n",
       "    }\n",
       "</style>\n",
       "<table border=\"1\" class=\"dataframe\">\n",
       "  <thead>\n",
       "    <tr style=\"text-align: right;\">\n",
       "      <th></th>\n",
       "      <th>IV</th>\n",
       "    </tr>\n",
       "  </thead>\n",
       "  <tbody>\n",
       "    <tr>\n",
       "      <th>可用额度比值</th>\n",
       "      <td>0.867677</td>\n",
       "    </tr>\n",
       "    <tr>\n",
       "      <th>年龄</th>\n",
       "      <td>0.226285</td>\n",
       "    </tr>\n",
       "    <tr>\n",
       "      <th>逾期30-59天笔数</th>\n",
       "      <td>0.638915</td>\n",
       "    </tr>\n",
       "    <tr>\n",
       "      <th>负债率</th>\n",
       "      <td>0.021881</td>\n",
       "    </tr>\n",
       "    <tr>\n",
       "      <th>月收入</th>\n",
       "      <td>0.056417</td>\n",
       "    </tr>\n",
       "    <tr>\n",
       "      <th>信贷数量</th>\n",
       "      <td>0.035331</td>\n",
       "    </tr>\n",
       "    <tr>\n",
       "      <th>逾期90天笔数</th>\n",
       "      <td>0.780782</td>\n",
       "    </tr>\n",
       "    <tr>\n",
       "      <th>固定资产贷款量</th>\n",
       "      <td>0.052406</td>\n",
       "    </tr>\n",
       "    <tr>\n",
       "      <th>逾期60-89天笔数</th>\n",
       "      <td>0.497545</td>\n",
       "    </tr>\n",
       "    <tr>\n",
       "      <th>家属数量</th>\n",
       "      <td>0.033580</td>\n",
       "    </tr>\n",
       "  </tbody>\n",
       "</table>\n",
       "</div>"
      ],
      "text/plain": [
       "                  IV\n",
       "可用额度比值      0.867677\n",
       "年龄          0.226285\n",
       "逾期30-59天笔数  0.638915\n",
       "负债率         0.021881\n",
       "月收入         0.056417\n",
       "信贷数量        0.035331\n",
       "逾期90天笔数     0.780782\n",
       "固定资产贷款量     0.052406\n",
       "逾期60-89天笔数  0.497545\n",
       "家属数量        0.033580"
      ]
     },
     "execution_count": 42,
     "metadata": {},
     "output_type": "execute_result"
    }
   ],
   "source": [
    "IV"
   ]
  },
  {
   "cell_type": "markdown",
   "metadata": {},
   "source": [
    "# 一般选取IV大于0.02的特征变量进行后续训练，从以上可以看出所有变量均满足，所以选取全部的"
   ]
  },
  {
   "cell_type": "markdown",
   "metadata": {},
   "source": [
    "# WOE值替换"
   ]
  },
  {
   "cell_type": "code",
   "execution_count": 43,
   "metadata": {},
   "outputs": [
    {
     "data": {
      "text/html": [
       "<div>\n",
       "<style scoped>\n",
       "    .dataframe tbody tr th:only-of-type {\n",
       "        vertical-align: middle;\n",
       "    }\n",
       "\n",
       "    .dataframe tbody tr th {\n",
       "        vertical-align: top;\n",
       "    }\n",
       "\n",
       "    .dataframe thead th {\n",
       "        text-align: right;\n",
       "    }\n",
       "</style>\n",
       "<table border=\"1\" class=\"dataframe\">\n",
       "  <thead>\n",
       "    <tr style=\"text-align: right;\">\n",
       "      <th></th>\n",
       "      <th>好坏客户</th>\n",
       "      <th>可用额度比值</th>\n",
       "      <th>年龄</th>\n",
       "      <th>逾期30-59天笔数</th>\n",
       "      <th>负债率</th>\n",
       "      <th>月收入</th>\n",
       "      <th>信贷数量</th>\n",
       "      <th>逾期90天笔数</th>\n",
       "      <th>固定资产贷款量</th>\n",
       "      <th>逾期60-89天笔数</th>\n",
       "      <th>家属数量</th>\n",
       "    </tr>\n",
       "    <tr>\n",
       "      <th>ID</th>\n",
       "      <th></th>\n",
       "      <th></th>\n",
       "      <th></th>\n",
       "      <th></th>\n",
       "      <th></th>\n",
       "      <th></th>\n",
       "      <th></th>\n",
       "      <th></th>\n",
       "      <th></th>\n",
       "      <th></th>\n",
       "      <th></th>\n",
       "    </tr>\n",
       "  </thead>\n",
       "  <tbody>\n",
       "    <tr>\n",
       "      <th>1</th>\n",
       "      <td>1</td>\n",
       "      <td>1.044468</td>\n",
       "      <td>0.246969</td>\n",
       "      <td>1.701683</td>\n",
       "      <td>0.191066</td>\n",
       "      <td>-0.321369</td>\n",
       "      <td>0.045474</td>\n",
       "      <td>-0.345338</td>\n",
       "      <td>0.665870</td>\n",
       "      <td>-0.244603</td>\n",
       "      <td>0.197472</td>\n",
       "    </tr>\n",
       "    <tr>\n",
       "      <th>2</th>\n",
       "      <td>0</td>\n",
       "      <td>1.044468</td>\n",
       "      <td>0.316890</td>\n",
       "      <td>-0.476517</td>\n",
       "      <td>-0.151014</td>\n",
       "      <td>0.289489</td>\n",
       "      <td>0.222781</td>\n",
       "      <td>-0.345338</td>\n",
       "      <td>0.197418</td>\n",
       "      <td>-0.244603</td>\n",
       "      <td>0.097683</td>\n",
       "    </tr>\n",
       "    <tr>\n",
       "      <th>3</th>\n",
       "      <td>0</td>\n",
       "      <td>1.044468</td>\n",
       "      <td>0.316890</td>\n",
       "      <td>0.899640</td>\n",
       "      <td>-0.151014</td>\n",
       "      <td>0.289489</td>\n",
       "      <td>0.222781</td>\n",
       "      <td>1.990279</td>\n",
       "      <td>0.197418</td>\n",
       "      <td>-0.244603</td>\n",
       "      <td>-0.150675</td>\n",
       "    </tr>\n",
       "    <tr>\n",
       "      <th>4</th>\n",
       "      <td>0</td>\n",
       "      <td>-0.247395</td>\n",
       "      <td>0.518166</td>\n",
       "      <td>-0.476517</td>\n",
       "      <td>-0.151014</td>\n",
       "      <td>0.289489</td>\n",
       "      <td>0.222781</td>\n",
       "      <td>-0.345338</td>\n",
       "      <td>0.197418</td>\n",
       "      <td>-0.244603</td>\n",
       "      <td>-0.150675</td>\n",
       "    </tr>\n",
       "    <tr>\n",
       "      <th>5</th>\n",
       "      <td>0</td>\n",
       "      <td>1.044468</td>\n",
       "      <td>0.166515</td>\n",
       "      <td>0.899640</td>\n",
       "      <td>-0.151014</td>\n",
       "      <td>-0.321369</td>\n",
       "      <td>-0.255957</td>\n",
       "      <td>-0.345338</td>\n",
       "      <td>-0.235787</td>\n",
       "      <td>-0.244603</td>\n",
       "      <td>-0.150675</td>\n",
       "    </tr>\n",
       "  </tbody>\n",
       "</table>\n",
       "</div>"
      ],
      "text/plain": [
       "    好坏客户    可用额度比值        年龄  逾期30-59天笔数       负债率       月收入      信贷数量  \\\n",
       "ID                                                                       \n",
       "1      1  1.044468  0.246969    1.701683  0.191066 -0.321369  0.045474   \n",
       "2      0  1.044468  0.316890   -0.476517 -0.151014  0.289489  0.222781   \n",
       "3      0  1.044468  0.316890    0.899640 -0.151014  0.289489  0.222781   \n",
       "4      0 -0.247395  0.518166   -0.476517 -0.151014  0.289489  0.222781   \n",
       "5      0  1.044468  0.166515    0.899640 -0.151014 -0.321369 -0.255957   \n",
       "\n",
       "     逾期90天笔数   固定资产贷款量  逾期60-89天笔数      家属数量  \n",
       "ID                                            \n",
       "1  -0.345338  0.665870   -0.244603  0.197472  \n",
       "2  -0.345338  0.197418   -0.244603  0.097683  \n",
       "3   1.990279  0.197418   -0.244603 -0.150675  \n",
       "4  -0.345338  0.197418   -0.244603 -0.150675  \n",
       "5  -0.345338 -0.235787   -0.244603 -0.150675  "
      ]
     },
     "execution_count": 43,
     "metadata": {},
     "output_type": "execute_result"
    }
   ],
   "source": [
    "df_new=pd.DataFrame()   #新建df_new存放woe转换后的数据\n",
    "def replace_data(cut,cut_woe):\n",
    "    a=[]\n",
    "    for i in cut.unique():\n",
    "        a.append(i)\n",
    "        a.sort()\n",
    "    for m in range(len(a)):\n",
    "        cut.replace(a[m],cut_woe.values[m],inplace=True)\n",
    "    return cut\n",
    "df_new[\"好坏客户\"]=df1[\"好坏客户\"]\n",
    "df_new[\"可用额度比值\"]=replace_data(cut1,cut1_woe)\n",
    "df_new[\"年龄\"]=replace_data(cut2,cut2_woe)\n",
    "df_new[\"逾期30-59天笔数\"]=replace_data(cut3,cut3_woe)\n",
    "df_new[\"负债率\"]=replace_data(cut4,cut4_woe)\n",
    "df_new[\"月收入\"]=replace_data(cut5,cut5_woe)\n",
    "df_new[\"信贷数量\"]=replace_data(cut6,cut6_woe)\n",
    "df_new[\"逾期90天笔数\"]=replace_data(cut7,cut7_woe)\n",
    "df_new[\"固定资产贷款量\"]=replace_data(cut8,cut8_woe)\n",
    "df_new[\"逾期60-89天笔数\"]=replace_data(cut9,cut9_woe)\n",
    "df_new[\"家属数量\"]=replace_data(cut10,cut10_woe)\n",
    "df_new.head()"
   ]
  },
  {
   "cell_type": "markdown",
   "metadata": {},
   "source": [
    "# 模型训练"
   ]
  },
  {
   "cell_type": "markdown",
   "metadata": {},
   "source": [
    "![title](img\\lr.png)"
   ]
  },
  {
   "cell_type": "code",
   "execution_count": 44,
   "metadata": {},
   "outputs": [
    {
     "name": "stdout",
     "output_type": "stream",
     "text": [
      "测试成绩：0.9418841189674523\n"
     ]
    }
   ],
   "source": [
    "x=df_new.iloc[:,1:]\n",
    "y=df_new.iloc[:,:1]\n",
    "x_train,x_test,y_train,y_test=train_test_split(x,y,test_size=0.6,random_state=0)\n",
    "model=LogisticRegression()\n",
    "clf=model.fit(x_train,y_train)\n",
    "print('测试成绩：{}'.format(clf.score(x_test,y_test)))"
   ]
  },
  {
   "cell_type": "code",
   "execution_count": 45,
   "metadata": {},
   "outputs": [
    {
     "name": "stdout",
     "output_type": "stream",
     "text": [
      "KS:0.5274%\n",
      "AUC:83.9908%\n"
     ]
    }
   ],
   "source": [
    "y_pred = model.predict_proba(x_test)\n",
    "predictions = y_pred[:,1]\n",
    "auc = metrics.roc_auc_score(y_test,predictions)\n",
    "fpr,tpr,threshold = roc_curve(y_test,y_pred[:,1])\n",
    "ks = max(tpr - fpr)\n",
    "print(\"KS:%.4f%%\"%(ks))\n",
    "print(\"AUC:%.4f%%\"%(auc * 100.0))"
   ]
  },
  {
   "cell_type": "code",
   "execution_count": 46,
   "metadata": {},
   "outputs": [],
   "source": [
    "#求特征权值系数coe，后面训练结果转分值时会用到：\n",
    "coe=clf.coef_        #特征权值系数，后面转换为打分规则时会用到"
   ]
  },
  {
   "cell_type": "code",
   "execution_count": 47,
   "metadata": {},
   "outputs": [
    {
     "data": {
      "text/plain": [
       "array([[0.62019761, 0.43160547, 0.56449512, 1.25787618, 0.57195395,\n",
       "        0.21789471, 0.59067794, 0.63781761, 0.46569727, 0.37101125]])"
      ]
     },
     "execution_count": 47,
     "metadata": {},
     "output_type": "execute_result"
    }
   ],
   "source": [
    "coe"
   ]
  },
  {
   "cell_type": "code",
   "execution_count": 48,
   "metadata": {},
   "outputs": [
    {
     "data": {
      "image/png": "[encoded data removed]",
      "text/plain": [
       "<Figure size 432x288 with 1 Axes>"
      ]
     },
     "metadata": {
      "needs_background": "light"
     },
     "output_type": "display_data"
    }
   ],
   "source": [
    "#roc_auc = auc(fpr, tpr)\n",
    "plt.plot(fpr, tpr, color='darkorange',label='ROC curve (area = %0.2f)' % auc)\n",
    "plt.plot([0, 1], [0, 1], color='navy',  linestyle='--')\n",
    "plt.xlim([0.0, 1.0])\n",
    "plt.ylim([0.0, 1.0])\n",
    "plt.xlabel('False Positive Rate')\n",
    "plt.ylabel('True Positive Rate')\n",
    "plt.title('ROC_curve')\n",
    "plt.legend(loc=\"lower right\")\n",
    "plt.show()"
   ]
  },
  {
   "cell_type": "code",
   "execution_count": 49,
   "metadata": {},
   "outputs": [
    {
     "data": {
      "image/png": "[encoded data removed]",
      "text/plain": [
       "<Figure size 432x288 with 1 Axes>"
      ]
     },
     "metadata": {
      "needs_background": "light"
     },
     "output_type": "display_data"
    },
    {
     "data": {
      "text/plain": [
       "<Figure size 1440x1440 with 0 Axes>"
      ]
     },
     "metadata": {},
     "output_type": "display_data"
    }
   ],
   "source": [
    "fig, ax = plt.subplots()\n",
    "ax.plot(1 - threshold, tpr, label='tpr') # ks曲线要按照预测概率降序排列，所以需要1-threshold镜像\n",
    "ax.plot(1 - threshold, fpr, label='fpr')\n",
    "ax.plot(1 - threshold, tpr-fpr,label='KS')\n",
    "plt.xlabel('score')\n",
    "plt.title('KS Curve')\n",
    "plt.ylim([0.0, 1.0])\n",
    "plt.figure(figsize=(20,20))\n",
    "legend = ax.legend(loc='upper left')\n",
    "plt.show()"
   ]
  },
  {
   "cell_type": "markdown",
   "metadata": {},
   "source": [
    "# 模型结果转评分"
   ]
  },
  {
   "cell_type": "markdown",
   "metadata": {},
   "source": [
    "![title](img/score.png)"
   ]
  },
  {
   "cell_type": "markdown",
   "metadata": {},
   "source": [
    "![title](img/factor.png)"
   ]
  },
  {
   "cell_type": "markdown",
   "metadata": {},
   "source": [
    "## 假设好坏比为20的时候分数为600分，每高20分好坏比翻一倍\n",
    "## 现在我们求每个变量不同woe值对应的分数刻度可得："
   ]
  },
  {
   "cell_type": "code",
   "execution_count": 55,
   "metadata": {
    "scrolled": true
   },
   "outputs": [
    {
     "name": "stdout",
     "output_type": "stream",
     "text": [
      "可用额度比值对应的分数:[-22.0, -20.0, -4.0, 19.0]\n",
      "年龄对应的分数:[6.0, 4.0, 3.0, 2.0, -0.0, -5.0, -11.0, -13.0]\n",
      "逾期30-59天笔数对应的分数:[-8.0, 15.0, 28.0, 38.0, 43.0]\n",
      "负债率对应的分数:[-5.0, -2.0, 7.0]\n",
      "月收入对应的分数:[5.0, 2.0, -3.0, -5.0]\n",
      "信贷数量对应的分数:[1.0, -2.0, -1.0, 0.0]\n",
      "逾期90天笔数对应的分数:[-6.0, 34.0, 47.0, 56.0, 56.0]\n",
      "固定资产贷款量对应的分数:[4.0, -4.0, -3.0, 1.0, 12.0]\n",
      "逾期60-89天笔数对应的分数:[-3.0, 25.0, 36.0, 40.0]\n",
      "家属数量对应的分数:[-2.0, 1.0, 2.0, 3.0, 4.0, 7.0]\n"
     ]
    }
   ],
   "source": [
    "factor = 20 / np.log(2)\n",
    "offset = 600 - 20 * np.log(20) / np.log(2)\n",
    "def get_score(coe,woe,factor):\n",
    "    scores=[]\n",
    "    interval = []\n",
    "    for key,w in woe.items():\n",
    "        score=round(coe*w*factor,0)\n",
    "        scores.append(score)\n",
    "    return scores\n",
    "x1 = get_score(coe[0][0], cut1_woe, factor)\n",
    "x2 = get_score(coe[0][1], cut2_woe, factor)\n",
    "x3 = get_score(coe[0][2], cut3_woe, factor)\n",
    "x4 = get_score(coe[0][3], cut4_woe, factor)\n",
    "x5 = get_score(coe[0][4], cut5_woe, factor)\n",
    "x6 = get_score(coe[0][5], cut6_woe, factor)\n",
    "x7 = get_score(coe[0][6], cut7_woe, factor)\n",
    "x8 = get_score(coe[0][7], cut8_woe, factor)\n",
    "x9 = get_score(coe[0][8], cut9_woe, factor)\n",
    "x10 = get_score(coe[0][9], cut10_woe, factor)\n",
    "print(\"可用额度比值对应的分数:{}\".format(x1))\n",
    "print(\"年龄对应的分数:{}\".format(x2))\n",
    "print(\"逾期30-59天笔数对应的分数:{}\".format(x3))\n",
    "print(\"负债率对应的分数:{}\".format(x4))\n",
    "print(\"月收入对应的分数:{}\".format(x5))\n",
    "print(\"信贷数量对应的分数:{}\".format(x6))\n",
    "print(\"逾期90天笔数对应的分数:{}\".format(x7))\n",
    "print(\"固定资产贷款量对应的分数:{}\".format(x8))\n",
    "print(\"逾期60-89天笔数对应的分数:{}\".format(x9))\n",
    "print(\"家属数量对应的分数:{}\".format(x10))"
   ]
  },
  {
   "cell_type": "markdown",
   "metadata": {},
   "source": [
    "# 计算用户总分\n",
    "## 1.取自动分箱的边界分割点"
   ]
  },
  {
   "cell_type": "code",
   "execution_count": 56,
   "metadata": {},
   "outputs": [],
   "source": [
    "cu1=pd.qcut(df1[\"可用额度比值\"],4,labels=False,retbins=True)\n",
    "bins1=cu1[1]\n",
    "cu2=pd.qcut(df1[\"年龄\"],8,labels=False,retbins=True)\n",
    "bins2=cu2[1]\n",
    "\n",
    "# bins3=[-1,0,1,3,5,13]\n",
    "# cut3=pd.cut(df1[\"逾期30-59天笔数\"],bins3,labels=False)\n",
    "cu4=pd.qcut(df1[\"负债率\"],3,labels=False,retbins=True)\n",
    "bins4=cu4[1]\n",
    "cu5=pd.qcut(df1[\"月收入\"],4,labels=False,retbins=True)\n",
    "bins5=cu5[1]\n",
    "cu6=pd.qcut(df1[\"信贷数量\"],4,labels=False,retbins=True)\n",
    "bins6=cu6[1]"
   ]
  },
  {
   "cell_type": "markdown",
   "metadata": {},
   "source": [
    "## 2.各变量对应的分数求和，算出每个用户的总分"
   ]
  },
  {
   "cell_type": "code",
   "execution_count": 57,
   "metadata": {},
   "outputs": [],
   "source": [
    "def compute_score(series,bins,score):\n",
    "    list = []\n",
    "    i = 0\n",
    "    while i < len(series):\n",
    "        value = series[i]\n",
    "        j = len(bins) - 2\n",
    "        m = len(bins) - 2\n",
    "        while j >= 0:\n",
    "            if value >= bins[j]:\n",
    "                j = -1\n",
    "            else:\n",
    "                j -= 1\n",
    "                m -= 1\n",
    "        list.append(score[m])\n",
    "        i += 1\n",
    "    return list"
   ]
  },
  {
   "cell_type": "code",
   "execution_count": 58,
   "metadata": {},
   "outputs": [],
   "source": [
    "def calScore(test1):\n",
    "    test1['x1'] = pd.Series(compute_score(test1['RevolvingUtilizationOfUnsecuredLines'], bins1, x1))\n",
    "    test1['x2'] = pd.Series(compute_score(test1['age'], bins2, x2))\n",
    "    test1['x3'] = pd.Series(compute_score(test1['NumberOfTime30-59DaysPastDueNotWorse'], bins3, x3))\n",
    "    test1['x4'] = pd.Series(compute_score(test1['DebtRatio'], bins4, x4))\n",
    "    test1['x5'] = pd.Series(compute_score(test1['MonthlyIncome'], bins5, x5))\n",
    "    test1['x6'] = pd.Series(compute_score(test1['NumberOfOpenCreditLinesAndLoans'], bins6, x6))\n",
    "    test1['x7'] = pd.Series(compute_score(test1['NumberOfTimes90DaysLate'], bins7, x7))\n",
    "    test1['x8'] = pd.Series(compute_score(test1['NumberRealEstateLoansOrLines'], bins8, x8))\n",
    "    test1['x9'] = pd.Series(compute_score(test1['NumberOfTime60-89DaysPastDueNotWorse'], bins9, x9))\n",
    "    test1['x10'] = pd.Series(compute_score(test1['NumberOfDependents'], bins10, x10))\n",
    "    score = test1['x1']+test1['x2']+test1['x3']+test1['x4']+test1['x5']+test1['x6']+test1['x7']+test1['x8']+test1['x9']+test1['x10']+600\n",
    "    return score[0]"
   ]
  },
  {
   "cell_type": "code",
   "execution_count": 59,
   "metadata": {},
   "outputs": [],
   "source": [
    "def creditLevel(score):\n",
    "    if score < 600.0:\n",
    "        return -1\n",
    "    elif score >= 600.0 and score < 640.0:\n",
    "        return 2000\n",
    "    elif score >= 640.0 and score < 680.0:\n",
    "        return 4000\n",
    "    elif score >= 680.0 and score < 720.0:\n",
    "        return 6000\n",
    "    elif score >= 720.0 and score < 760.0:\n",
    "        return 8000\n",
    "    elif score >= 760.0:\n",
    "        return 10000"
   ]
  },
  {
   "cell_type": "code",
   "execution_count": 71,
   "metadata": {},
   "outputs": [],
   "source": [
    "#进行全流程验证函数\n",
    "def main(ID_Card,tel):\n",
    "    #print('开始进入准入规则:')\n",
    "    #result = rule.check(ID_Card,tel)\n",
    "    #print(result)\n",
    "    #if result != '通过准入规则检查':\n",
    "        #return -1\n",
    "    #else:\n",
    "        print(\"开始反欺诈检验!\")\n",
    "        df = pd.read_csv('data/anti-fraud.txt',sep = '\\t')\n",
    "        if int(ID_Card) in df['ID'].tolist():\n",
    "            data = df[df['ID'] == int(ID_Card)]\n",
    "            if len(data.index.tolist()) > 0:\n",
    "                data.drop('ID',inplace=True,axis=1)\n",
    "                # 加载模型\n",
    "                model = joblib.load(\"score_card/anti-fraud-rf.model\")\n",
    "                pred = model.predict(data.values)\n",
    "                if pred[0] == 0:\n",
    "                    print('您的信息已经通过反欺诈检验。')\n",
    "                else:\n",
    "                    print('您的信息存在异常，命中欺诈库，请完善信息，重新申请。')\n",
    "                    return -1\n",
    "            else:\n",
    "                print(\"您的信息不全，请重新填写。\")\n",
    "                return -1\n",
    "        else:\n",
    "            print(\"您的信息不全，请重新填写。\")\n",
    "            return -1\n",
    "        print(\"开始进行申请评分!\")\n",
    "        df = pd.read_csv('data/score-card.txt',sep = '\\t')\n",
    "        if int(ID_Card) in df['ID'].tolist():\n",
    "            data = df[df['ID'] == int(ID_Card)]\n",
    "            if len(data.index.tolist()) > 0:\n",
    "                score = calScore(data)\n",
    "                amt = creditLevel(score)\n",
    "                if amt == -1:\n",
    "                    print('抱歉，您没有通过申请，请完善更多资料重新进行申请。')\n",
    "                    return -1\n",
    "                else:\n",
    "                    print('恭喜您，获得'+str(amt)+'额度，快去体现使用吧！')      \n",
    "            else:\n",
    "                print(\"您的信息不全，请重新填写。\")\n",
    "                return -1\n",
    "        else:\n",
    "            print(\"您的信息不全，请重新填写。\")\n",
    "            return -1"
   ]
  },
  {
   "cell_type": "code",
   "execution_count": 72,
   "metadata": {
    "scrolled": true
   },
   "outputs": [
    {
     "name": "stdout",
     "output_type": "stream",
     "text": [
      "请输入身份证号，手机号:130120198506302014,12345678954\n",
      "开始反欺诈检验!\n",
      "您的信息已经通过反欺诈检验。\n",
      "开始进行申请评分!\n",
      "恭喜您，获得4000额度，快去体现使用吧！\n",
      "进行后续步骤！\n"
     ]
    }
   ],
   "source": [
    "#实际验证\n",
    "inputData = input(\"请输入身份证号，手机号:\")\n",
    "data = inputData.strip().split(',')\n",
    "if len(data) == 2:\n",
    "    ret = main(data[0],data[1])\n",
    "    if ret == -1:\n",
    "        print(\"真是遗憾！\")\n",
    "    else:\n",
    "        print(\"进行后续步骤！\")"
   ]
  },
  {
   "cell_type": "code",
   "execution_count": null,
   "metadata": {},
   "outputs": [],
   "source": []
  }
 ],
 "metadata": {
  "kernelspec": {
   "display_name": "Python 3 (ipykernel)",
   "language": "python",
   "name": "python3"
  },
  "language_info": {
   "codemirror_mode": {
    "name": "ipython",
    "version": 3
   },
   "file_extension": ".py",
   "mimetype": "text/x-python",
   "name": "python",
   "nbconvert_exporter": "python",
   "pygments_lexer": "ipython3",
   "version": "3.7.4"
  }
 },
 "nbformat": 4,
 "nbformat_minor": 2
}