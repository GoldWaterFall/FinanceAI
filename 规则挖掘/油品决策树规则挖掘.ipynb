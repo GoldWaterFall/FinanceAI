{
 "cells": [
  {
   "cell_type": "markdown",
   "metadata": {
    "toc": true
   },
   "source": [
    "<h1>Table of Contents<span class=\"tocSkip\"></span></h1>\n",
    "<div class=\"toc\"><ul class=\"toc-item\"><li><span><a href=\"#导入相关的包\" data-toc-modified-id=\"导入相关的包-1\"><span class=\"toc-item-num\">1&nbsp;&nbsp;</span>导入相关的包</a></span></li><li><span><a href=\"#读取油品数据集\" data-toc-modified-id=\"读取油品数据集-2\"><span class=\"toc-item-num\">2&nbsp;&nbsp;</span>读取油品数据集</a></span></li><li><span><a href=\"#将特征根据不同情况分为3类\" data-toc-modified-id=\"将特征根据不同情况分为3类-3\"><span class=\"toc-item-num\">3&nbsp;&nbsp;</span>将特征根据不同情况分为3类</a></span></li><li><span><a href=\"#对特征creat_dt进行补全\" data-toc-modified-id=\"对特征creat_dt进行补全-4\"><span class=\"toc-item-num\">4&nbsp;&nbsp;</span>对特征creat_dt进行补全</a></span></li><li><span><a href=\"#对org_list进行处理\" data-toc-modified-id=\"对org_list进行处理-5\"><span class=\"toc-item-num\">5&nbsp;&nbsp;</span>对org_list进行处理</a></span></li><li><span><a href=\"#变量衍生（重点）\" data-toc-modified-id=\"变量衍生（重点）-6\"><span class=\"toc-item-num\">6&nbsp;&nbsp;</span>变量衍生（重点）</a></span></li><li><span><a href=\"#决策树进行训练\" data-toc-modified-id=\"决策树进行训练-7\"><span class=\"toc-item-num\">7&nbsp;&nbsp;</span>决策树进行训练</a></span></li></ul></div>"
   ]
  },
  {
   "cell_type": "markdown",
   "metadata": {},
   "source": [
    "## 导入相关的包"
   ]
  },
  {
   "cell_type": "code",
   "execution_count": 1,
   "metadata": {
    "ExecuteTime": {
     "end_time": "2020-07-09T08:05:35.820909Z",
     "start_time": "2020-07-09T08:05:35.815856Z"
    }
   },
   "outputs": [],
   "source": [
    "import pandas as pd\n",
    "import numpy as np\n",
    "\n",
    "#消除Warning\n",
    "import warnings\n",
    "warnings.filterwarnings(\"ignore\")"
   ]
  },
  {
   "cell_type": "markdown",
   "metadata": {},
   "source": [
    "## 读取油品数据集"
   ]
  },
  {
   "cell_type": "code",
   "execution_count": 2,
   "metadata": {
    "ExecuteTime": {
     "end_time": "2020-07-09T08:05:50.613447Z",
     "start_time": "2020-07-09T08:05:38.676391Z"
    }
   },
   "outputs": [
    {
     "data": {
      "text/html": [
       "<div>\n",
       "<style scoped>\n",
       "    .dataframe tbody tr th:only-of-type {\n",
       "        vertical-align: middle;\n",
       "    }\n",
       "\n",
       "    .dataframe tbody tr th {\n",
       "        vertical-align: top;\n",
       "    }\n",
       "\n",
       "    .dataframe thead th {\n",
       "        text-align: right;\n",
       "    }\n",
       "</style>\n",
       "<table border=\"1\" class=\"dataframe\">\n",
       "  <thead>\n",
       "    <tr style=\"text-align: right;\">\n",
       "      <th></th>\n",
       "      <th>uid</th>\n",
       "      <th>oil_actv_dt</th>\n",
       "      <th>create_dt</th>\n",
       "      <th>total_oil_cnt</th>\n",
       "      <th>pay_amount_total</th>\n",
       "      <th>class_new</th>\n",
       "      <th>bad_ind</th>\n",
       "      <th>oil_amount</th>\n",
       "      <th>discount_amount</th>\n",
       "      <th>sale_amount</th>\n",
       "      <th>amount</th>\n",
       "      <th>pay_amount</th>\n",
       "      <th>coupon_amount</th>\n",
       "      <th>payment_coupon_amount</th>\n",
       "      <th>channel_code</th>\n",
       "      <th>oil_code</th>\n",
       "      <th>scene</th>\n",
       "      <th>source_app</th>\n",
       "      <th>call_source</th>\n",
       "    </tr>\n",
       "  </thead>\n",
       "  <tbody>\n",
       "    <tr>\n",
       "      <th>0</th>\n",
       "      <td>A8217710</td>\n",
       "      <td>2018-08-19</td>\n",
       "      <td>2018-08-17</td>\n",
       "      <td>275.0</td>\n",
       "      <td>48295495.4</td>\n",
       "      <td>B</td>\n",
       "      <td>0</td>\n",
       "      <td>3308.56</td>\n",
       "      <td>1760081.0</td>\n",
       "      <td>1796001.0</td>\n",
       "      <td>1731081.0</td>\n",
       "      <td>8655401.0</td>\n",
       "      <td>1.0</td>\n",
       "      <td>1.0</td>\n",
       "      <td>1</td>\n",
       "      <td>3</td>\n",
       "      <td>2</td>\n",
       "      <td>0</td>\n",
       "      <td>3</td>\n",
       "    </tr>\n",
       "    <tr>\n",
       "      <th>1</th>\n",
       "      <td>A8217710</td>\n",
       "      <td>2018-08-19</td>\n",
       "      <td>2018-08-16</td>\n",
       "      <td>275.0</td>\n",
       "      <td>48295495.4</td>\n",
       "      <td>B</td>\n",
       "      <td>0</td>\n",
       "      <td>4674.68</td>\n",
       "      <td>2487045.0</td>\n",
       "      <td>2537801.0</td>\n",
       "      <td>2437845.0</td>\n",
       "      <td>12189221.0</td>\n",
       "      <td>1.0</td>\n",
       "      <td>1.0</td>\n",
       "      <td>1</td>\n",
       "      <td>3</td>\n",
       "      <td>2</td>\n",
       "      <td>0</td>\n",
       "      <td>3</td>\n",
       "    </tr>\n",
       "    <tr>\n",
       "      <th>2</th>\n",
       "      <td>A8217710</td>\n",
       "      <td>2018-08-19</td>\n",
       "      <td>2018-08-15</td>\n",
       "      <td>275.0</td>\n",
       "      <td>48295495.4</td>\n",
       "      <td>B</td>\n",
       "      <td>0</td>\n",
       "      <td>1873.06</td>\n",
       "      <td>977845.0</td>\n",
       "      <td>997801.0</td>\n",
       "      <td>961845.0</td>\n",
       "      <td>4809221.0</td>\n",
       "      <td>1.0</td>\n",
       "      <td>1.0</td>\n",
       "      <td>1</td>\n",
       "      <td>2</td>\n",
       "      <td>2</td>\n",
       "      <td>0</td>\n",
       "      <td>3</td>\n",
       "    </tr>\n",
       "    <tr>\n",
       "      <th>3</th>\n",
       "      <td>A8217710</td>\n",
       "      <td>2018-08-19</td>\n",
       "      <td>2018-08-14</td>\n",
       "      <td>275.0</td>\n",
       "      <td>48295495.4</td>\n",
       "      <td>B</td>\n",
       "      <td>0</td>\n",
       "      <td>4837.78</td>\n",
       "      <td>2526441.0</td>\n",
       "      <td>2578001.0</td>\n",
       "      <td>2484441.0</td>\n",
       "      <td>12422201.0</td>\n",
       "      <td>1.0</td>\n",
       "      <td>1.0</td>\n",
       "      <td>1</td>\n",
       "      <td>2</td>\n",
       "      <td>2</td>\n",
       "      <td>0</td>\n",
       "      <td>3</td>\n",
       "    </tr>\n",
       "    <tr>\n",
       "      <th>4</th>\n",
       "      <td>A8217710</td>\n",
       "      <td>2018-08-19</td>\n",
       "      <td>2018-08-13</td>\n",
       "      <td>275.0</td>\n",
       "      <td>48295495.4</td>\n",
       "      <td>B</td>\n",
       "      <td>0</td>\n",
       "      <td>2586.38</td>\n",
       "      <td>1350441.0</td>\n",
       "      <td>1378001.0</td>\n",
       "      <td>1328441.0</td>\n",
       "      <td>6642201.0</td>\n",
       "      <td>1.0</td>\n",
       "      <td>1.0</td>\n",
       "      <td>1</td>\n",
       "      <td>2</td>\n",
       "      <td>2</td>\n",
       "      <td>0</td>\n",
       "      <td>3</td>\n",
       "    </tr>\n",
       "  </tbody>\n",
       "</table>\n",
       "</div>"
      ],
      "text/plain": [
       "        uid oil_actv_dt  create_dt  total_oil_cnt  pay_amount_total class_new  \\\n",
       "0  A8217710  2018-08-19 2018-08-17          275.0        48295495.4         B   \n",
       "1  A8217710  2018-08-19 2018-08-16          275.0        48295495.4         B   \n",
       "2  A8217710  2018-08-19 2018-08-15          275.0        48295495.4         B   \n",
       "3  A8217710  2018-08-19 2018-08-14          275.0        48295495.4         B   \n",
       "4  A8217710  2018-08-19 2018-08-13          275.0        48295495.4         B   \n",
       "\n",
       "   bad_ind  oil_amount  discount_amount  sale_amount     amount  pay_amount  \\\n",
       "0        0     3308.56        1760081.0    1796001.0  1731081.0   8655401.0   \n",
       "1        0     4674.68        2487045.0    2537801.0  2437845.0  12189221.0   \n",
       "2        0     1873.06         977845.0     997801.0   961845.0   4809221.0   \n",
       "3        0     4837.78        2526441.0    2578001.0  2484441.0  12422201.0   \n",
       "4        0     2586.38        1350441.0    1378001.0  1328441.0   6642201.0   \n",
       "\n",
       "   coupon_amount  payment_coupon_amount  channel_code  oil_code  scene  \\\n",
       "0            1.0                    1.0             1         3      2   \n",
       "1            1.0                    1.0             1         3      2   \n",
       "2            1.0                    1.0             1         2      2   \n",
       "3            1.0                    1.0             1         2      2   \n",
       "4            1.0                    1.0             1         2      2   \n",
       "\n",
       "   source_app  call_source  \n",
       "0           0            3  \n",
       "1           0            3  \n",
       "2           0            3  \n",
       "3           0            3  \n",
       "4           0            3  "
      ]
     },
     "execution_count": 2,
     "metadata": {},
     "output_type": "execute_result"
    }
   ],
   "source": [
    "data = pd.read_excel('data/oil_data_for_tree.xlsx')\n",
    "data.head()"
   ]
  },
  {
   "cell_type": "markdown",
   "metadata": {},
   "source": [
    "这个数据集包含了关于用户加油活动的信息，以下是各个字段的含义：\n",
    "\n",
    "1. `uid` - 用户唯一标识符，用于识别不同的用户。\n",
    "\n",
    "2. `oil_actv_dt` - 加油活动日期，表示用户进行加油活动的日期。\n",
    "\n",
    "3. `create_dt` - 创建日期，表示一些数据记录的创建日期。\n",
    "\n",
    "4. `total_oil_cnt` - 总加油次数，表示用户总共进行了多少次加油活动。\n",
    "\n",
    "5. `pay_amount_total` - 支付总金额，表示用户在所有加油活动中支付的总金额。\n",
    "\n",
    "6. `class_new` - 用户分类，可能表示用户的类型或级别。\n",
    "\n",
    "7. `bad_ind` - 是否存在不良记录的指示，通常是二进制值（0或1），表示用户是否有不良记录。\n",
    "\n",
    "8. `oil_amount` - 加油金额，表示每次加油的金额。\n",
    "\n",
    "9. `discount_amount` - 折扣金额，表示每次加油中的折扣金额。\n",
    "\n",
    "10. `sale_amount` - 销售金额，表示每次加油中的销售金额。\n",
    "\n",
    "11. `amount` - 金额，可能是加油活动的总金额。\n",
    "\n",
    "12. `pay_amount` - 实际支付金额，表示用户实际支付的金额。\n",
    "\n",
    "13. `coupon_amount` - 优惠券金额，表示每次加油中使用的优惠券金额。\n",
    "\n",
    "14. `payment_coupon_amount` - 支付优惠券金额，表示每次加油中支付的优惠券金额。\n",
    "\n",
    "15. `channel_code` - 渠道代码，可能表示用户使用的加油渠道。\n",
    "\n",
    "16. `oil_code` - 加油类型代码，可能表示用户选择的加油类型。\n",
    "\n",
    "17. `scene` - 场景，可能表示加油的具体场景或用途。\n",
    "\n",
    "18. `source_app` - 源应用，表示用户进行加油活动的来源应用程序。\n",
    "\n",
    "19. `call_source` - 呼叫来源，表示用户的加油活动是通过什么方式或来源发起的。\n",
    "\n",
    "这些字段提供了有关用户加油行为的详细信息，包括时间、金额、渠道、优惠等信息，可以用于分析用户的加油习惯和行为模式。"
   ]
  },
  {
   "cell_type": "markdown",
   "metadata": {},
   "source": [
    "查看数据相关信息"
   ]
  },
  {
   "cell_type": "code",
   "execution_count": 3,
   "metadata": {
    "ExecuteTime": {
     "end_time": "2020-07-08T03:56:44.588059Z",
     "start_time": "2020-07-08T03:56:44.583063Z"
    }
   },
   "outputs": [
    {
     "data": {
      "text/plain": [
       "(50609, 19)"
      ]
     },
     "execution_count": 3,
     "metadata": {},
     "output_type": "execute_result"
    }
   ],
   "source": [
    "data.shape"
   ]
  },
  {
   "cell_type": "code",
   "execution_count": 4,
   "metadata": {
    "ExecuteTime": {
     "end_time": "2020-07-08T03:56:45.324893Z",
     "start_time": "2020-07-08T03:56:45.309891Z"
    }
   },
   "outputs": [
    {
     "data": {
      "text/plain": [
       "array(['B', 'E', 'C', 'A', 'D', 'F'], dtype=object)"
      ]
     },
     "execution_count": 4,
     "metadata": {},
     "output_type": "execute_result"
    }
   ],
   "source": [
    "# 下面两种方法均可查看某列的取值集合\n",
    "data.class_new.unique()\n",
    "# set(data.class_new)"
   ]
  },
  {
   "cell_type": "markdown",
   "metadata": {},
   "source": [
    "计算下坏账率"
   ]
  },
  {
   "cell_type": "code",
   "execution_count": 5,
   "metadata": {
    "ExecuteTime": {
     "end_time": "2020-07-08T03:56:45.909699Z",
     "start_time": "2020-07-08T03:56:45.894659Z"
    }
   },
   "outputs": [
    {
     "data": {
      "text/plain": [
       "0.01776363887846035"
      ]
     },
     "execution_count": 5,
     "metadata": {},
     "output_type": "execute_result"
    }
   ],
   "source": [
    "data[data.bad_ind == 1]['bad_ind'].count()/data['bad_ind'].count()"
   ]
  },
  {
   "cell_type": "markdown",
   "metadata": {},
   "source": [
    "## 将特征根据不同情况分为3类"
   ]
  },
  {
   "cell_type": "markdown",
   "metadata": {},
   "source": [
    "org_lst 不需要做特殊变换，直接去重\n",
    "\n",
    "agg_lst 数值型变量做聚合\n",
    "\n",
    "dstc_lst 文本型变量做 distinct count"
   ]
  },
  {
   "cell_type": "code",
   "execution_count": 6,
   "metadata": {
    "ExecuteTime": {
     "end_time": "2020-07-09T08:08:46.025137Z",
     "start_time": "2020-07-09T08:08:46.022161Z"
    }
   },
   "outputs": [],
   "source": [
    "#在这里，变量'total_oil_cnt', 'pay_amount_total'没有添加进去，以为他们是聚合后的数据\n",
    "org_lst = ['uid','create_dt','oil_actv_dt','class_new','bad_ind']\n",
    "agg_lst = ['oil_amount','discount_amount','sale_amount','amount','pay_amount','coupon_amount','payment_coupon_amount']\n",
    "dstc_lst = ['channel_code','oil_code','scene','source_app','call_source']"
   ]
  },
  {
   "cell_type": "markdown",
   "metadata": {},
   "source": [
    "数据重组"
   ]
  },
  {
   "cell_type": "code",
   "execution_count": 7,
   "metadata": {
    "ExecuteTime": {
     "end_time": "2020-07-09T08:08:46.861121Z",
     "start_time": "2020-07-09T08:08:46.833048Z"
    }
   },
   "outputs": [],
   "source": [
    "#为不改变原数据，可以将原数据copy下来，进行处理\n",
    "df = data[org_lst].copy()\n",
    "df[agg_lst] = data[agg_lst].copy()\n",
    "df[dstc_lst] = data[dstc_lst].copy()"
   ]
  },
  {
   "cell_type": "code",
   "execution_count": 8,
   "metadata": {
    "ExecuteTime": {
     "end_time": "2020-07-09T08:08:47.542490Z",
     "start_time": "2020-07-09T08:08:47.538475Z"
    }
   },
   "outputs": [
    {
     "data": {
      "text/plain": [
       "(50609, 17)"
      ]
     },
     "execution_count": 8,
     "metadata": {},
     "output_type": "execute_result"
    }
   ],
   "source": [
    "df.shape"
   ]
  },
  {
   "cell_type": "markdown",
   "metadata": {},
   "source": [
    "看一下缺失值情况"
   ]
  },
  {
   "cell_type": "code",
   "execution_count": 9,
   "metadata": {
    "ExecuteTime": {
     "end_time": "2020-07-08T03:57:03.298831Z",
     "start_time": "2020-07-08T03:57:03.286848Z"
    },
    "scrolled": false
   },
   "outputs": [
    {
     "data": {
      "text/plain": [
       "uid                         0\n",
       "create_dt                4944\n",
       "oil_actv_dt                 0\n",
       "class_new                   0\n",
       "bad_ind                     0\n",
       "oil_amount               4944\n",
       "discount_amount          4944\n",
       "sale_amount              4944\n",
       "amount                   4944\n",
       "pay_amount               4944\n",
       "coupon_amount            4944\n",
       "payment_coupon_amount    4946\n",
       "channel_code                0\n",
       "oil_code                    0\n",
       "scene                       0\n",
       "source_app                  0\n",
       "call_source                 0\n",
       "dtype: int64"
      ]
     },
     "execution_count": 9,
     "metadata": {},
     "output_type": "execute_result"
    }
   ],
   "source": [
    "df.isnull().sum()"
   ]
  },
  {
   "cell_type": "markdown",
   "metadata": {},
   "source": [
    "看一下基础变量的describe"
   ]
  },
  {
   "cell_type": "code",
   "execution_count": 10,
   "metadata": {},
   "outputs": [
    {
     "data": {
      "text/html": [
       "<div>\n",
       "<style scoped>\n",
       "    .dataframe tbody tr th:only-of-type {\n",
       "        vertical-align: middle;\n",
       "    }\n",
       "\n",
       "    .dataframe tbody tr th {\n",
       "        vertical-align: top;\n",
       "    }\n",
       "\n",
       "    .dataframe thead th {\n",
       "        text-align: right;\n",
       "    }\n",
       "</style>\n",
       "<table border=\"1\" class=\"dataframe\">\n",
       "  <thead>\n",
       "    <tr style=\"text-align: right;\">\n",
       "      <th></th>\n",
       "      <th>bad_ind</th>\n",
       "      <th>oil_amount</th>\n",
       "      <th>discount_amount</th>\n",
       "      <th>sale_amount</th>\n",
       "      <th>amount</th>\n",
       "      <th>pay_amount</th>\n",
       "      <th>coupon_amount</th>\n",
       "      <th>payment_coupon_amount</th>\n",
       "      <th>channel_code</th>\n",
       "      <th>oil_code</th>\n",
       "      <th>scene</th>\n",
       "      <th>source_app</th>\n",
       "      <th>call_source</th>\n",
       "    </tr>\n",
       "  </thead>\n",
       "  <tbody>\n",
       "    <tr>\n",
       "      <th>count</th>\n",
       "      <td>50609.000000</td>\n",
       "      <td>45665.000000</td>\n",
       "      <td>4.566500e+04</td>\n",
       "      <td>4.566500e+04</td>\n",
       "      <td>4.566500e+04</td>\n",
       "      <td>4.566500e+04</td>\n",
       "      <td>45665.000000</td>\n",
       "      <td>45663.000000</td>\n",
       "      <td>50609.000000</td>\n",
       "      <td>50609.000000</td>\n",
       "      <td>50609.000000</td>\n",
       "      <td>50609.000000</td>\n",
       "      <td>50609.000000</td>\n",
       "    </tr>\n",
       "    <tr>\n",
       "      <th>mean</th>\n",
       "      <td>0.017764</td>\n",
       "      <td>425.376107</td>\n",
       "      <td>1.832017e+05</td>\n",
       "      <td>1.881283e+05</td>\n",
       "      <td>1.808673e+05</td>\n",
       "      <td>9.043344e+05</td>\n",
       "      <td>0.576853</td>\n",
       "      <td>149.395397</td>\n",
       "      <td>1.476378</td>\n",
       "      <td>1.617894</td>\n",
       "      <td>1.906519</td>\n",
       "      <td>0.306072</td>\n",
       "      <td>2.900729</td>\n",
       "    </tr>\n",
       "    <tr>\n",
       "      <th>std</th>\n",
       "      <td>0.132093</td>\n",
       "      <td>400.596244</td>\n",
       "      <td>2.007574e+05</td>\n",
       "      <td>2.048742e+05</td>\n",
       "      <td>1.977035e+05</td>\n",
       "      <td>9.885168e+05</td>\n",
       "      <td>0.494064</td>\n",
       "      <td>605.138823</td>\n",
       "      <td>1.511470</td>\n",
       "      <td>3.074166</td>\n",
       "      <td>0.367280</td>\n",
       "      <td>0.893682</td>\n",
       "      <td>0.726231</td>\n",
       "    </tr>\n",
       "    <tr>\n",
       "      <th>min</th>\n",
       "      <td>0.000000</td>\n",
       "      <td>1.000000</td>\n",
       "      <td>0.000000e+00</td>\n",
       "      <td>0.000000e+00</td>\n",
       "      <td>1.000000e+00</td>\n",
       "      <td>5.000000e+00</td>\n",
       "      <td>0.000000</td>\n",
       "      <td>0.000000</td>\n",
       "      <td>0.000000</td>\n",
       "      <td>0.000000</td>\n",
       "      <td>0.000000</td>\n",
       "      <td>0.000000</td>\n",
       "      <td>0.000000</td>\n",
       "    </tr>\n",
       "    <tr>\n",
       "      <th>25%</th>\n",
       "      <td>0.000000</td>\n",
       "      <td>175.440000</td>\n",
       "      <td>6.039100e+04</td>\n",
       "      <td>6.200100e+04</td>\n",
       "      <td>5.976100e+04</td>\n",
       "      <td>2.988010e+05</td>\n",
       "      <td>0.000000</td>\n",
       "      <td>1.000000</td>\n",
       "      <td>1.000000</td>\n",
       "      <td>0.000000</td>\n",
       "      <td>2.000000</td>\n",
       "      <td>0.000000</td>\n",
       "      <td>3.000000</td>\n",
       "    </tr>\n",
       "    <tr>\n",
       "      <th>50%</th>\n",
       "      <td>0.000000</td>\n",
       "      <td>336.160000</td>\n",
       "      <td>1.229310e+05</td>\n",
       "      <td>1.279240e+05</td>\n",
       "      <td>1.209610e+05</td>\n",
       "      <td>6.048010e+05</td>\n",
       "      <td>1.000000</td>\n",
       "      <td>1.000000</td>\n",
       "      <td>1.000000</td>\n",
       "      <td>0.000000</td>\n",
       "      <td>2.000000</td>\n",
       "      <td>0.000000</td>\n",
       "      <td>3.000000</td>\n",
       "    </tr>\n",
       "    <tr>\n",
       "      <th>75%</th>\n",
       "      <td>0.000000</td>\n",
       "      <td>557.600000</td>\n",
       "      <td>2.399050e+05</td>\n",
       "      <td>2.454010e+05</td>\n",
       "      <td>2.360790e+05</td>\n",
       "      <td>1.180391e+06</td>\n",
       "      <td>1.000000</td>\n",
       "      <td>100.000000</td>\n",
       "      <td>1.000000</td>\n",
       "      <td>0.000000</td>\n",
       "      <td>2.000000</td>\n",
       "      <td>0.000000</td>\n",
       "      <td>3.000000</td>\n",
       "    </tr>\n",
       "    <tr>\n",
       "      <th>max</th>\n",
       "      <td>1.000000</td>\n",
       "      <td>7952.820000</td>\n",
       "      <td>3.916081e+06</td>\n",
       "      <td>3.996001e+06</td>\n",
       "      <td>3.851081e+06</td>\n",
       "      <td>1.925540e+07</td>\n",
       "      <td>1.000000</td>\n",
       "      <td>50000.000000</td>\n",
       "      <td>6.000000</td>\n",
       "      <td>9.000000</td>\n",
       "      <td>2.000000</td>\n",
       "      <td>3.000000</td>\n",
       "      <td>4.000000</td>\n",
       "    </tr>\n",
       "  </tbody>\n",
       "</table>\n",
       "</div>"
      ],
      "text/plain": [
       "            bad_ind    oil_amount  discount_amount   sale_amount  \\\n",
       "count  50609.000000  45665.000000     4.566500e+04  4.566500e+04   \n",
       "mean       0.017764    425.376107     1.832017e+05  1.881283e+05   \n",
       "std        0.132093    400.596244     2.007574e+05  2.048742e+05   \n",
       "min        0.000000      1.000000     0.000000e+00  0.000000e+00   \n",
       "25%        0.000000    175.440000     6.039100e+04  6.200100e+04   \n",
       "50%        0.000000    336.160000     1.229310e+05  1.279240e+05   \n",
       "75%        0.000000    557.600000     2.399050e+05  2.454010e+05   \n",
       "max        1.000000   7952.820000     3.916081e+06  3.996001e+06   \n",
       "\n",
       "             amount    pay_amount  coupon_amount  payment_coupon_amount  \\\n",
       "count  4.566500e+04  4.566500e+04   45665.000000           45663.000000   \n",
       "mean   1.808673e+05  9.043344e+05       0.576853             149.395397   \n",
       "std    1.977035e+05  9.885168e+05       0.494064             605.138823   \n",
       "min    1.000000e+00  5.000000e+00       0.000000               0.000000   \n",
       "25%    5.976100e+04  2.988010e+05       0.000000               1.000000   \n",
       "50%    1.209610e+05  6.048010e+05       1.000000               1.000000   \n",
       "75%    2.360790e+05  1.180391e+06       1.000000             100.000000   \n",
       "max    3.851081e+06  1.925540e+07       1.000000           50000.000000   \n",
       "\n",
       "       channel_code      oil_code         scene    source_app   call_source  \n",
       "count  50609.000000  50609.000000  50609.000000  50609.000000  50609.000000  \n",
       "mean       1.476378      1.617894      1.906519      0.306072      2.900729  \n",
       "std        1.511470      3.074166      0.367280      0.893682      0.726231  \n",
       "min        0.000000      0.000000      0.000000      0.000000      0.000000  \n",
       "25%        1.000000      0.000000      2.000000      0.000000      3.000000  \n",
       "50%        1.000000      0.000000      2.000000      0.000000      3.000000  \n",
       "75%        1.000000      0.000000      2.000000      0.000000      3.000000  \n",
       "max        6.000000      9.000000      2.000000      3.000000      4.000000  "
      ]
     },
     "execution_count": 10,
     "metadata": {},
     "output_type": "execute_result"
    }
   ],
   "source": [
    "df.describe()"
   ]
  },
  {
   "cell_type": "markdown",
   "metadata": {},
   "source": [
    "## 对特征creat_dt进行补全"
   ]
  },
  {
   "cell_type": "markdown",
   "metadata": {},
   "source": [
    "对creat_dt做补全，用oil_actv_dt来填补，并且截取6个月的数据。  \n",
    "构造变量的时候不能直接对历史所有数据做累加。  \n",
    "否则随着时间推移，变量分布会有很大的变化。"
   ]
  },
  {
   "cell_type": "code",
   "execution_count": 11,
   "metadata": {
    "ExecuteTime": {
     "end_time": "2020-07-09T08:09:12.503769Z",
     "start_time": "2020-07-09T08:09:10.132866Z"
    },
    "scrolled": true
   },
   "outputs": [
    {
     "data": {
      "text/html": [
       "<div>\n",
       "<style scoped>\n",
       "    .dataframe tbody tr th:only-of-type {\n",
       "        vertical-align: middle;\n",
       "    }\n",
       "\n",
       "    .dataframe tbody tr th {\n",
       "        vertical-align: top;\n",
       "    }\n",
       "\n",
       "    .dataframe thead th {\n",
       "        text-align: right;\n",
       "    }\n",
       "</style>\n",
       "<table border=\"1\" class=\"dataframe\">\n",
       "  <thead>\n",
       "    <tr style=\"text-align: right;\">\n",
       "      <th></th>\n",
       "      <th>uid</th>\n",
       "      <th>create_dt</th>\n",
       "      <th>oil_actv_dt</th>\n",
       "      <th>class_new</th>\n",
       "      <th>bad_ind</th>\n",
       "      <th>oil_amount</th>\n",
       "      <th>discount_amount</th>\n",
       "      <th>sale_amount</th>\n",
       "      <th>amount</th>\n",
       "      <th>pay_amount</th>\n",
       "      <th>coupon_amount</th>\n",
       "      <th>payment_coupon_amount</th>\n",
       "      <th>channel_code</th>\n",
       "      <th>oil_code</th>\n",
       "      <th>scene</th>\n",
       "      <th>source_app</th>\n",
       "      <th>call_source</th>\n",
       "      <th>dtn</th>\n",
       "    </tr>\n",
       "  </thead>\n",
       "  <tbody>\n",
       "    <tr>\n",
       "      <th>50608</th>\n",
       "      <td>B96436391985035703</td>\n",
       "      <td>2018-10-08</td>\n",
       "      <td>2018-10-08</td>\n",
       "      <td>B</td>\n",
       "      <td>0</td>\n",
       "      <td>NaN</td>\n",
       "      <td>NaN</td>\n",
       "      <td>NaN</td>\n",
       "      <td>NaN</td>\n",
       "      <td>NaN</td>\n",
       "      <td>NaN</td>\n",
       "      <td>NaN</td>\n",
       "      <td>6</td>\n",
       "      <td>9</td>\n",
       "      <td>2</td>\n",
       "      <td>3</td>\n",
       "      <td>4</td>\n",
       "      <td>0</td>\n",
       "    </tr>\n",
       "    <tr>\n",
       "      <th>50607</th>\n",
       "      <td>B96436391984693397</td>\n",
       "      <td>2018-10-11</td>\n",
       "      <td>2018-10-11</td>\n",
       "      <td>E</td>\n",
       "      <td>0</td>\n",
       "      <td>NaN</td>\n",
       "      <td>NaN</td>\n",
       "      <td>NaN</td>\n",
       "      <td>NaN</td>\n",
       "      <td>NaN</td>\n",
       "      <td>NaN</td>\n",
       "      <td>NaN</td>\n",
       "      <td>6</td>\n",
       "      <td>9</td>\n",
       "      <td>2</td>\n",
       "      <td>3</td>\n",
       "      <td>4</td>\n",
       "      <td>0</td>\n",
       "    </tr>\n",
       "    <tr>\n",
       "      <th>50606</th>\n",
       "      <td>B96436391977217468</td>\n",
       "      <td>2018-10-17</td>\n",
       "      <td>2018-10-17</td>\n",
       "      <td>B</td>\n",
       "      <td>0</td>\n",
       "      <td>NaN</td>\n",
       "      <td>NaN</td>\n",
       "      <td>NaN</td>\n",
       "      <td>NaN</td>\n",
       "      <td>NaN</td>\n",
       "      <td>NaN</td>\n",
       "      <td>NaN</td>\n",
       "      <td>6</td>\n",
       "      <td>9</td>\n",
       "      <td>2</td>\n",
       "      <td>3</td>\n",
       "      <td>4</td>\n",
       "      <td>0</td>\n",
       "    </tr>\n",
       "    <tr>\n",
       "      <th>50605</th>\n",
       "      <td>B96436391976480892</td>\n",
       "      <td>2018-09-28</td>\n",
       "      <td>2018-09-28</td>\n",
       "      <td>B</td>\n",
       "      <td>0</td>\n",
       "      <td>NaN</td>\n",
       "      <td>NaN</td>\n",
       "      <td>NaN</td>\n",
       "      <td>NaN</td>\n",
       "      <td>NaN</td>\n",
       "      <td>NaN</td>\n",
       "      <td>NaN</td>\n",
       "      <td>6</td>\n",
       "      <td>9</td>\n",
       "      <td>2</td>\n",
       "      <td>3</td>\n",
       "      <td>4</td>\n",
       "      <td>0</td>\n",
       "    </tr>\n",
       "    <tr>\n",
       "      <th>50604</th>\n",
       "      <td>B96436391972106043</td>\n",
       "      <td>2018-10-19</td>\n",
       "      <td>2018-10-19</td>\n",
       "      <td>A</td>\n",
       "      <td>0</td>\n",
       "      <td>NaN</td>\n",
       "      <td>NaN</td>\n",
       "      <td>NaN</td>\n",
       "      <td>NaN</td>\n",
       "      <td>NaN</td>\n",
       "      <td>NaN</td>\n",
       "      <td>NaN</td>\n",
       "      <td>6</td>\n",
       "      <td>9</td>\n",
       "      <td>2</td>\n",
       "      <td>3</td>\n",
       "      <td>4</td>\n",
       "      <td>0</td>\n",
       "    </tr>\n",
       "  </tbody>\n",
       "</table>\n",
       "</div>"
      ],
      "text/plain": [
       "                      uid  create_dt oil_actv_dt class_new  bad_ind  \\\n",
       "50608  B96436391985035703 2018-10-08  2018-10-08         B        0   \n",
       "50607  B96436391984693397 2018-10-11  2018-10-11         E        0   \n",
       "50606  B96436391977217468 2018-10-17  2018-10-17         B        0   \n",
       "50605  B96436391976480892 2018-09-28  2018-09-28         B        0   \n",
       "50604  B96436391972106043 2018-10-19  2018-10-19         A        0   \n",
       "\n",
       "       oil_amount  discount_amount  sale_amount  amount  pay_amount  \\\n",
       "50608         NaN              NaN          NaN     NaN         NaN   \n",
       "50607         NaN              NaN          NaN     NaN         NaN   \n",
       "50606         NaN              NaN          NaN     NaN         NaN   \n",
       "50605         NaN              NaN          NaN     NaN         NaN   \n",
       "50604         NaN              NaN          NaN     NaN         NaN   \n",
       "\n",
       "       coupon_amount  payment_coupon_amount  channel_code  oil_code  scene  \\\n",
       "50608            NaN                    NaN             6         9      2   \n",
       "50607            NaN                    NaN             6         9      2   \n",
       "50606            NaN                    NaN             6         9      2   \n",
       "50605            NaN                    NaN             6         9      2   \n",
       "50604            NaN                    NaN             6         9      2   \n",
       "\n",
       "       source_app  call_source  dtn  \n",
       "50608           3            4    0  \n",
       "50607           3            4    0  \n",
       "50606           3            4    0  \n",
       "50605           3            4    0  \n",
       "50604           3            4    0  "
      ]
     },
     "execution_count": 11,
     "metadata": {},
     "output_type": "execute_result"
    }
   ],
   "source": [
    "# 这里对creat_dt做补全，用oil_actv_dt来填补，并且截取6个月的数据。\n",
    "\n",
    "# 定义一个名为 time_isna 的函数，接受两个参数 x 和 y\n",
    "def time_isna(x, y):\n",
    "    # 如果 x 是 'NaT' 字符串（表示不是一个时间戳），则将 x 的值设置为 y\n",
    "    if str(x) == 'NaT':\n",
    "        x = y\n",
    "    else:\n",
    "        # 如果 x 不是 'NaT'，则保持 x 不变\n",
    "        x = x\n",
    "    # 返回 x 的值\n",
    "    return x\n",
    "\n",
    "# 将 DataFrame df 根据 'uid' 列升序排列，然后根据 'create_dt' 列降序排列，结果存储在 df2 中\n",
    "df2 = df.sort_values(['uid', 'create_dt'], ascending=False)\n",
    "\n",
    "# 使用 apply 函数，将 time_isna 函数逐行应用于 DataFrame，以填充 'create_dt' 列中的缺失值\n",
    "df2['create_dt'] = df2.apply(lambda x: time_isna(x.create_dt, x.oil_actv_dt), axis=1)\n",
    "\n",
    "# 计算 'oil_actv_dt' 列和 'create_dt' 列之间的时间差，然后将结果转换为天数，存储在 'dtn' 列中\n",
    "df2['dtn'] = (df2.oil_actv_dt - df2.create_dt).apply(lambda x: x.days)\n",
    "\n",
    "# 创建一个新的 DataFrame df，其中包含 'dtn' 列中时间差小于 180 天的行\n",
    "df = df2[df2['dtn'] < 180]\n",
    "\n",
    "# 显示新 DataFrame df 的前几行数据\n",
    "df.head()"
   ]
  },
  {
   "cell_type": "code",
   "execution_count": 12,
   "metadata": {
    "ExecuteTime": {
     "end_time": "2020-07-09T08:09:12.511749Z",
     "start_time": "2020-07-09T08:09:12.505765Z"
    }
   },
   "outputs": [
    {
     "data": {
      "text/plain": [
       "(45039, 18)"
      ]
     },
     "execution_count": 12,
     "metadata": {},
     "output_type": "execute_result"
    }
   ],
   "source": [
    "# 这里可以看出，筛选掉日期差大于180天的数据后，减少了将近5000左右的数据\n",
    "df.shape"
   ]
  },
  {
   "cell_type": "markdown",
   "metadata": {},
   "source": [
    "## 对org_list进行处理"
   ]
  },
  {
   "cell_type": "markdown",
   "metadata": {},
   "source": [
    "对org_list变量求历史贷款天数的最大间隔，并且去重"
   ]
  },
  {
   "cell_type": "code",
   "execution_count": 13,
   "metadata": {
    "ExecuteTime": {
     "end_time": "2020-07-09T08:10:41.743282Z",
     "start_time": "2020-07-09T08:10:41.708235Z"
    }
   },
   "outputs": [
    {
     "data": {
      "text/plain": [
       "(11099, 6)"
      ]
     },
     "execution_count": 13,
     "metadata": {},
     "output_type": "execute_result"
    }
   ],
   "source": [
    "base = df[org_lst]\n",
    "base['dtn'] = df['dtn']\n",
    "base = base.sort_values(by = ['uid','create_dt'],ascending = False)\n",
    "base = base.drop_duplicates(['uid'],keep = 'first')\n",
    "#去重后可以看出数据剩下10000个左右\n",
    "base.shape"
   ]
  },
  {
   "cell_type": "code",
   "execution_count": 14,
   "metadata": {
    "ExecuteTime": {
     "end_time": "2020-07-09T08:10:42.044403Z",
     "start_time": "2020-07-09T08:10:42.034277Z"
    }
   },
   "outputs": [
    {
     "data": {
      "text/html": [
       "<div>\n",
       "<style scoped>\n",
       "    .dataframe tbody tr th:only-of-type {\n",
       "        vertical-align: middle;\n",
       "    }\n",
       "\n",
       "    .dataframe tbody tr th {\n",
       "        vertical-align: top;\n",
       "    }\n",
       "\n",
       "    .dataframe thead th {\n",
       "        text-align: right;\n",
       "    }\n",
       "</style>\n",
       "<table border=\"1\" class=\"dataframe\">\n",
       "  <thead>\n",
       "    <tr style=\"text-align: right;\">\n",
       "      <th></th>\n",
       "      <th>uid</th>\n",
       "      <th>create_dt</th>\n",
       "      <th>oil_actv_dt</th>\n",
       "      <th>class_new</th>\n",
       "      <th>bad_ind</th>\n",
       "      <th>dtn</th>\n",
       "    </tr>\n",
       "  </thead>\n",
       "  <tbody>\n",
       "    <tr>\n",
       "      <th>50608</th>\n",
       "      <td>B96436391985035703</td>\n",
       "      <td>2018-10-08</td>\n",
       "      <td>2018-10-08</td>\n",
       "      <td>B</td>\n",
       "      <td>0</td>\n",
       "      <td>0</td>\n",
       "    </tr>\n",
       "    <tr>\n",
       "      <th>50607</th>\n",
       "      <td>B96436391984693397</td>\n",
       "      <td>2018-10-11</td>\n",
       "      <td>2018-10-11</td>\n",
       "      <td>E</td>\n",
       "      <td>0</td>\n",
       "      <td>0</td>\n",
       "    </tr>\n",
       "    <tr>\n",
       "      <th>50606</th>\n",
       "      <td>B96436391977217468</td>\n",
       "      <td>2018-10-17</td>\n",
       "      <td>2018-10-17</td>\n",
       "      <td>B</td>\n",
       "      <td>0</td>\n",
       "      <td>0</td>\n",
       "    </tr>\n",
       "    <tr>\n",
       "      <th>50605</th>\n",
       "      <td>B96436391976480892</td>\n",
       "      <td>2018-09-28</td>\n",
       "      <td>2018-09-28</td>\n",
       "      <td>B</td>\n",
       "      <td>0</td>\n",
       "      <td>0</td>\n",
       "    </tr>\n",
       "    <tr>\n",
       "      <th>50604</th>\n",
       "      <td>B96436391972106043</td>\n",
       "      <td>2018-10-19</td>\n",
       "      <td>2018-10-19</td>\n",
       "      <td>A</td>\n",
       "      <td>0</td>\n",
       "      <td>0</td>\n",
       "    </tr>\n",
       "  </tbody>\n",
       "</table>\n",
       "</div>"
      ],
      "text/plain": [
       "                      uid  create_dt oil_actv_dt class_new  bad_ind  dtn\n",
       "50608  B96436391985035703 2018-10-08  2018-10-08         B        0    0\n",
       "50607  B96436391984693397 2018-10-11  2018-10-11         E        0    0\n",
       "50606  B96436391977217468 2018-10-17  2018-10-17         B        0    0\n",
       "50605  B96436391976480892 2018-09-28  2018-09-28         B        0    0\n",
       "50604  B96436391972106043 2018-10-19  2018-10-19         A        0    0"
      ]
     },
     "execution_count": 14,
     "metadata": {},
     "output_type": "execute_result"
    }
   ],
   "source": [
    "base.head()"
   ]
  },
  {
   "cell_type": "markdown",
   "metadata": {},
   "source": [
    "## 变量衍生（重点）"
   ]
  },
  {
   "cell_type": "code",
   "execution_count": 15,
   "metadata": {
    "ExecuteTime": {
     "end_time": "2020-07-09T08:12:13.628939Z",
     "start_time": "2020-07-09T08:11:03.149098Z"
    },
    "scrolled": true
   },
   "outputs": [],
   "source": [
    "gn = pd.DataFrame()\n",
    "for i in agg_lst:\n",
    "#统计非空次数   \n",
    "    tp = pd.DataFrame(df.groupby('uid').apply(lambda df:np.where(np.isnan(df[i]),0,1).sum()).reset_index())\n",
    "    tp.columns = ['uid',i + '_cnt']\n",
    "    if gn.empty == True:\n",
    "        gn = tp\n",
    "    else:\n",
    "        gn = pd.merge(gn, tp, on = 'uid',how = 'left')\n",
    "#统计数值大于0的个数\n",
    "    tp = pd.DataFrame(df.groupby('uid').apply(lambda df:np.where(df[i]>0,1,0).sum()).reset_index())\n",
    "    tp.columns = ['uid',i + '_num']\n",
    "    if gn.empty == True:\n",
    "        gn = tp\n",
    "    else:\n",
    "        gn = pd.merge(gn,tp,on = 'uid',how = 'left')\n",
    "#统计所有数值的和\n",
    "    tp = pd.DataFrame(df.groupby('uid').apply(lambda df:np.nansum(df[i])).reset_index())\n",
    "    tp.columns = ['uid',i + '_tot']\n",
    "    if gn.empty == True:\n",
    "        gn = tp\n",
    "    else:\n",
    "        gn = pd.merge(gn,tp,on = 'uid',how = 'left')\n",
    "#统计所有数值的均值\n",
    "    tp = pd.DataFrame(df.groupby('uid').apply(lambda df:np.nanmean(df[i])).reset_index())\n",
    "    tp.columns = ['uid',i + '_avg']\n",
    "    if gn.empty == True:\n",
    "        gn = tp\n",
    "    else:\n",
    "        gn = pd.merge(gn,tp,on = 'uid',how = 'left')\n",
    "#统计所有数值的最大值\n",
    "    tp = pd.DataFrame(df.groupby('uid').apply(lambda df:np.nanmax(df[i])).reset_index())\n",
    "    tp.columns = ['uid',i + '_max']\n",
    "    if gn.empty == True:\n",
    "        gn = tp\n",
    "    else:\n",
    "        gn = pd.merge(gn,tp,on = 'uid',how = 'left')\n",
    "#统计所有数值的最小值\n",
    "    tp = pd.DataFrame(df.groupby('uid').apply(lambda df:np.nanmin(df[i])).reset_index())\n",
    "    tp.columns = ['uid',i + '_min']\n",
    "    if gn.empty == True:\n",
    "        gn = tp\n",
    "    else:\n",
    "        gn = pd.merge(gn,tp,on = 'uid',how = 'left')\n",
    "#统计所有数值的方差\n",
    "    tp = pd.DataFrame(df.groupby('uid').apply(lambda df:np.nanvar(df[i])).reset_index())\n",
    "    tp.columns = ['uid',i + '_var']\n",
    "    if gn.empty == True:\n",
    "        gn = tp\n",
    "    else:\n",
    "        gn = pd.merge(gn,tp,on = 'uid',how = 'left')\n",
    "#统计所有数值最大、最小值的差值（极差）\n",
    "    tp = pd.DataFrame(df.groupby('uid').apply(lambda df:np.nanmax(df[i]) -np.nanmin(df[i]) ).reset_index())\n",
    "    tp.columns = ['uid',i + '_t']\n",
    "    if gn.empty == True:\n",
    "        gn = tp\n",
    "    else:\n",
    "        gn = pd.merge(gn,tp,on = 'uid',how = 'left')\n",
    "#统计变异系数（标准差/均值）\n",
    "    tp = pd.DataFrame(df.groupby('uid').apply(lambda df:max(np.nanvar(df[i])/np.nanmean(df[i]),1)).reset_index())\n",
    "    tp.columns = ['uid',i + '_tar']\n",
    "    if gn.empty == True:\n",
    "        gn = tp\n",
    "    else:\n",
    "        gn = pd.merge(gn,tp,on = 'uid',how = 'left')"
   ]
  },
  {
   "cell_type": "markdown",
   "metadata": {},
   "source": [
    "对dstc_lst变量求distinct个数"
   ]
  },
  {
   "cell_type": "code",
   "execution_count": 16,
   "metadata": {
    "ExecuteTime": {
     "end_time": "2020-07-09T08:12:15.504164Z",
     "start_time": "2020-07-09T08:12:13.631208Z"
    }
   },
   "outputs": [],
   "source": [
    "gc = pd.DataFrame()\n",
    "for i in dstc_lst:\n",
    "    tp = pd.DataFrame(df.groupby('uid').apply(lambda df: len(set(df[i]))).reset_index())\n",
    "    tp.columns = ['uid',i + '_dstc']\n",
    "    if gc.empty == True:\n",
    "        gc = tp\n",
    "    else:\n",
    "        gc = pd.merge(gc,tp,on = 'uid',how = 'left')"
   ]
  },
  {
   "cell_type": "markdown",
   "metadata": {},
   "source": [
    "将变量组合在一起"
   ]
  },
  {
   "cell_type": "code",
   "execution_count": 17,
   "metadata": {
    "ExecuteTime": {
     "end_time": "2020-07-09T08:12:15.566029Z",
     "start_time": "2020-07-09T08:12:15.506156Z"
    }
   },
   "outputs": [
    {
     "data": {
      "text/plain": [
       "(11099, 74)"
      ]
     },
     "execution_count": 17,
     "metadata": {},
     "output_type": "execute_result"
    }
   ],
   "source": [
    "fn = pd.merge(base,gn,on= 'uid')\n",
    "fn = pd.merge(fn,gc,on= 'uid') \n",
    "fn.shape"
   ]
  },
  {
   "cell_type": "markdown",
   "metadata": {},
   "source": [
    "缺失值用0 进行填充"
   ]
  },
  {
   "cell_type": "code",
   "execution_count": 18,
   "metadata": {
    "ExecuteTime": {
     "end_time": "2020-07-09T08:12:15.586939Z",
     "start_time": "2020-07-09T08:12:15.567989Z"
    }
   },
   "outputs": [],
   "source": [
    "fn = fn.fillna(0)"
   ]
  },
  {
   "cell_type": "code",
   "execution_count": 19,
   "metadata": {
    "ExecuteTime": {
     "end_time": "2020-07-09T08:12:16.137219Z",
     "start_time": "2020-07-09T08:12:16.113281Z"
    },
    "scrolled": true
   },
   "outputs": [
    {
     "data": {
      "text/html": [
       "<div>\n",
       "<style scoped>\n",
       "    .dataframe tbody tr th:only-of-type {\n",
       "        vertical-align: middle;\n",
       "    }\n",
       "\n",
       "    .dataframe tbody tr th {\n",
       "        vertical-align: top;\n",
       "    }\n",
       "\n",
       "    .dataframe thead th {\n",
       "        text-align: right;\n",
       "    }\n",
       "</style>\n",
       "<table border=\"1\" class=\"dataframe\">\n",
       "  <thead>\n",
       "    <tr style=\"text-align: right;\">\n",
       "      <th></th>\n",
       "      <th>uid</th>\n",
       "      <th>create_dt</th>\n",
       "      <th>oil_actv_dt</th>\n",
       "      <th>class_new</th>\n",
       "      <th>bad_ind</th>\n",
       "      <th>dtn</th>\n",
       "      <th>oil_amount_cnt</th>\n",
       "      <th>oil_amount_num</th>\n",
       "      <th>oil_amount_tot</th>\n",
       "      <th>oil_amount_avg</th>\n",
       "      <th>...</th>\n",
       "      <th>payment_coupon_amount_max</th>\n",
       "      <th>payment_coupon_amount_min</th>\n",
       "      <th>payment_coupon_amount_var</th>\n",
       "      <th>payment_coupon_amount_t</th>\n",
       "      <th>payment_coupon_amount_tar</th>\n",
       "      <th>channel_code_dstc</th>\n",
       "      <th>oil_code_dstc</th>\n",
       "      <th>scene_dstc</th>\n",
       "      <th>source_app_dstc</th>\n",
       "      <th>call_source_dstc</th>\n",
       "    </tr>\n",
       "  </thead>\n",
       "  <tbody>\n",
       "    <tr>\n",
       "      <th>0</th>\n",
       "      <td>B96436391985035703</td>\n",
       "      <td>2018-10-08</td>\n",
       "      <td>2018-10-08</td>\n",
       "      <td>B</td>\n",
       "      <td>0</td>\n",
       "      <td>0</td>\n",
       "      <td>0</td>\n",
       "      <td>0</td>\n",
       "      <td>0.0</td>\n",
       "      <td>0.0</td>\n",
       "      <td>...</td>\n",
       "      <td>0.0</td>\n",
       "      <td>0.0</td>\n",
       "      <td>0.0</td>\n",
       "      <td>0.0</td>\n",
       "      <td>0.0</td>\n",
       "      <td>1</td>\n",
       "      <td>1</td>\n",
       "      <td>1</td>\n",
       "      <td>1</td>\n",
       "      <td>1</td>\n",
       "    </tr>\n",
       "    <tr>\n",
       "      <th>1</th>\n",
       "      <td>B96436391984693397</td>\n",
       "      <td>2018-10-11</td>\n",
       "      <td>2018-10-11</td>\n",
       "      <td>E</td>\n",
       "      <td>0</td>\n",
       "      <td>0</td>\n",
       "      <td>0</td>\n",
       "      <td>0</td>\n",
       "      <td>0.0</td>\n",
       "      <td>0.0</td>\n",
       "      <td>...</td>\n",
       "      <td>0.0</td>\n",
       "      <td>0.0</td>\n",
       "      <td>0.0</td>\n",
       "      <td>0.0</td>\n",
       "      <td>0.0</td>\n",
       "      <td>1</td>\n",
       "      <td>1</td>\n",
       "      <td>1</td>\n",
       "      <td>1</td>\n",
       "      <td>1</td>\n",
       "    </tr>\n",
       "    <tr>\n",
       "      <th>2</th>\n",
       "      <td>B96436391977217468</td>\n",
       "      <td>2018-10-17</td>\n",
       "      <td>2018-10-17</td>\n",
       "      <td>B</td>\n",
       "      <td>0</td>\n",
       "      <td>0</td>\n",
       "      <td>0</td>\n",
       "      <td>0</td>\n",
       "      <td>0.0</td>\n",
       "      <td>0.0</td>\n",
       "      <td>...</td>\n",
       "      <td>0.0</td>\n",
       "      <td>0.0</td>\n",
       "      <td>0.0</td>\n",
       "      <td>0.0</td>\n",
       "      <td>0.0</td>\n",
       "      <td>1</td>\n",
       "      <td>1</td>\n",
       "      <td>1</td>\n",
       "      <td>1</td>\n",
       "      <td>1</td>\n",
       "    </tr>\n",
       "    <tr>\n",
       "      <th>3</th>\n",
       "      <td>B96436391976480892</td>\n",
       "      <td>2018-09-28</td>\n",
       "      <td>2018-09-28</td>\n",
       "      <td>B</td>\n",
       "      <td>0</td>\n",
       "      <td>0</td>\n",
       "      <td>0</td>\n",
       "      <td>0</td>\n",
       "      <td>0.0</td>\n",
       "      <td>0.0</td>\n",
       "      <td>...</td>\n",
       "      <td>0.0</td>\n",
       "      <td>0.0</td>\n",
       "      <td>0.0</td>\n",
       "      <td>0.0</td>\n",
       "      <td>0.0</td>\n",
       "      <td>1</td>\n",
       "      <td>1</td>\n",
       "      <td>1</td>\n",
       "      <td>1</td>\n",
       "      <td>1</td>\n",
       "    </tr>\n",
       "    <tr>\n",
       "      <th>4</th>\n",
       "      <td>B96436391972106043</td>\n",
       "      <td>2018-10-19</td>\n",
       "      <td>2018-10-19</td>\n",
       "      <td>A</td>\n",
       "      <td>0</td>\n",
       "      <td>0</td>\n",
       "      <td>0</td>\n",
       "      <td>0</td>\n",
       "      <td>0.0</td>\n",
       "      <td>0.0</td>\n",
       "      <td>...</td>\n",
       "      <td>0.0</td>\n",
       "      <td>0.0</td>\n",
       "      <td>0.0</td>\n",
       "      <td>0.0</td>\n",
       "      <td>0.0</td>\n",
       "      <td>1</td>\n",
       "      <td>1</td>\n",
       "      <td>1</td>\n",
       "      <td>1</td>\n",
       "      <td>1</td>\n",
       "    </tr>\n",
       "  </tbody>\n",
       "</table>\n",
       "<p>5 rows × 74 columns</p>\n",
       "</div>"
      ],
      "text/plain": [
       "                  uid  create_dt oil_actv_dt class_new  bad_ind  dtn  \\\n",
       "0  B96436391985035703 2018-10-08  2018-10-08         B        0    0   \n",
       "1  B96436391984693397 2018-10-11  2018-10-11         E        0    0   \n",
       "2  B96436391977217468 2018-10-17  2018-10-17         B        0    0   \n",
       "3  B96436391976480892 2018-09-28  2018-09-28         B        0    0   \n",
       "4  B96436391972106043 2018-10-19  2018-10-19         A        0    0   \n",
       "\n",
       "   oil_amount_cnt  oil_amount_num  oil_amount_tot  oil_amount_avg  ...  \\\n",
       "0               0               0             0.0             0.0  ...   \n",
       "1               0               0             0.0             0.0  ...   \n",
       "2               0               0             0.0             0.0  ...   \n",
       "3               0               0             0.0             0.0  ...   \n",
       "4               0               0             0.0             0.0  ...   \n",
       "\n",
       "   payment_coupon_amount_max  payment_coupon_amount_min  \\\n",
       "0                        0.0                        0.0   \n",
       "1                        0.0                        0.0   \n",
       "2                        0.0                        0.0   \n",
       "3                        0.0                        0.0   \n",
       "4                        0.0                        0.0   \n",
       "\n",
       "   payment_coupon_amount_var  payment_coupon_amount_t  \\\n",
       "0                        0.0                      0.0   \n",
       "1                        0.0                      0.0   \n",
       "2                        0.0                      0.0   \n",
       "3                        0.0                      0.0   \n",
       "4                        0.0                      0.0   \n",
       "\n",
       "   payment_coupon_amount_tar  channel_code_dstc  oil_code_dstc  scene_dstc  \\\n",
       "0                        0.0                  1              1           1   \n",
       "1                        0.0                  1              1           1   \n",
       "2                        0.0                  1              1           1   \n",
       "3                        0.0                  1              1           1   \n",
       "4                        0.0                  1              1           1   \n",
       "\n",
       "   source_app_dstc  call_source_dstc  \n",
       "0                1                 1  \n",
       "1                1                 1  \n",
       "2                1                 1  \n",
       "3                1                 1  \n",
       "4                1                 1  \n",
       "\n",
       "[5 rows x 74 columns]"
      ]
     },
     "execution_count": 19,
     "metadata": {},
     "output_type": "execute_result"
    }
   ],
   "source": [
    "fn.head()"
   ]
  },
  {
   "cell_type": "markdown",
   "metadata": {},
   "source": [
    "可以将处理后的数据进行保存"
   ]
  },
  {
   "cell_type": "code",
   "execution_count": 28,
   "metadata": {
    "ExecuteTime": {
     "end_time": "2020-07-08T03:58:19.350566Z",
     "start_time": "2020-07-08T03:58:18.730227Z"
    }
   },
   "outputs": [],
   "source": [
    "fn.to_csv('processing_data.csv',index = False)"
   ]
  },
  {
   "cell_type": "code",
   "execution_count": 40,
   "metadata": {
    "ExecuteTime": {
     "end_time": "2020-07-08T03:58:19.458721Z",
     "start_time": "2020-07-08T03:58:19.352561Z"
    }
   },
   "outputs": [
    {
     "data": {
      "text/html": [
       "<div>\n",
       "<style scoped>\n",
       "    .dataframe tbody tr th:only-of-type {\n",
       "        vertical-align: middle;\n",
       "    }\n",
       "\n",
       "    .dataframe tbody tr th {\n",
       "        vertical-align: top;\n",
       "    }\n",
       "\n",
       "    .dataframe thead th {\n",
       "        text-align: right;\n",
       "    }\n",
       "</style>\n",
       "<table border=\"1\" class=\"dataframe\">\n",
       "  <thead>\n",
       "    <tr style=\"text-align: right;\">\n",
       "      <th></th>\n",
       "      <th>uid</th>\n",
       "      <th>create_dt</th>\n",
       "      <th>oil_actv_dt</th>\n",
       "      <th>class_new</th>\n",
       "      <th>bad_ind</th>\n",
       "      <th>dtn</th>\n",
       "      <th>oil_amount_cnt</th>\n",
       "      <th>oil_amount_num</th>\n",
       "      <th>oil_amount_tot</th>\n",
       "      <th>oil_amount_avg</th>\n",
       "      <th>...</th>\n",
       "      <th>payment_coupon_amount_max</th>\n",
       "      <th>payment_coupon_amount_min</th>\n",
       "      <th>payment_coupon_amount_var</th>\n",
       "      <th>payment_coupon_amount_t</th>\n",
       "      <th>payment_coupon_amount_tar</th>\n",
       "      <th>channel_code_dstc</th>\n",
       "      <th>oil_code_dstc</th>\n",
       "      <th>scene_dstc</th>\n",
       "      <th>source_app_dstc</th>\n",
       "      <th>call_source_dstc</th>\n",
       "    </tr>\n",
       "  </thead>\n",
       "  <tbody>\n",
       "    <tr>\n",
       "      <th>0</th>\n",
       "      <td>B96436391985035703</td>\n",
       "      <td>2018-10-08</td>\n",
       "      <td>2018-10-08</td>\n",
       "      <td>B</td>\n",
       "      <td>0</td>\n",
       "      <td>0</td>\n",
       "      <td>0</td>\n",
       "      <td>0</td>\n",
       "      <td>0.0</td>\n",
       "      <td>0.0</td>\n",
       "      <td>...</td>\n",
       "      <td>0.0</td>\n",
       "      <td>0.0</td>\n",
       "      <td>0.0</td>\n",
       "      <td>0.0</td>\n",
       "      <td>0.0</td>\n",
       "      <td>1</td>\n",
       "      <td>1</td>\n",
       "      <td>1</td>\n",
       "      <td>1</td>\n",
       "      <td>1</td>\n",
       "    </tr>\n",
       "    <tr>\n",
       "      <th>1</th>\n",
       "      <td>B96436391984693397</td>\n",
       "      <td>2018-10-11</td>\n",
       "      <td>2018-10-11</td>\n",
       "      <td>E</td>\n",
       "      <td>0</td>\n",
       "      <td>0</td>\n",
       "      <td>0</td>\n",
       "      <td>0</td>\n",
       "      <td>0.0</td>\n",
       "      <td>0.0</td>\n",
       "      <td>...</td>\n",
       "      <td>0.0</td>\n",
       "      <td>0.0</td>\n",
       "      <td>0.0</td>\n",
       "      <td>0.0</td>\n",
       "      <td>0.0</td>\n",
       "      <td>1</td>\n",
       "      <td>1</td>\n",
       "      <td>1</td>\n",
       "      <td>1</td>\n",
       "      <td>1</td>\n",
       "    </tr>\n",
       "    <tr>\n",
       "      <th>2</th>\n",
       "      <td>B96436391977217468</td>\n",
       "      <td>2018-10-17</td>\n",
       "      <td>2018-10-17</td>\n",
       "      <td>B</td>\n",
       "      <td>0</td>\n",
       "      <td>0</td>\n",
       "      <td>0</td>\n",
       "      <td>0</td>\n",
       "      <td>0.0</td>\n",
       "      <td>0.0</td>\n",
       "      <td>...</td>\n",
       "      <td>0.0</td>\n",
       "      <td>0.0</td>\n",
       "      <td>0.0</td>\n",
       "      <td>0.0</td>\n",
       "      <td>0.0</td>\n",
       "      <td>1</td>\n",
       "      <td>1</td>\n",
       "      <td>1</td>\n",
       "      <td>1</td>\n",
       "      <td>1</td>\n",
       "    </tr>\n",
       "    <tr>\n",
       "      <th>3</th>\n",
       "      <td>B96436391976480892</td>\n",
       "      <td>2018-09-28</td>\n",
       "      <td>2018-09-28</td>\n",
       "      <td>B</td>\n",
       "      <td>0</td>\n",
       "      <td>0</td>\n",
       "      <td>0</td>\n",
       "      <td>0</td>\n",
       "      <td>0.0</td>\n",
       "      <td>0.0</td>\n",
       "      <td>...</td>\n",
       "      <td>0.0</td>\n",
       "      <td>0.0</td>\n",
       "      <td>0.0</td>\n",
       "      <td>0.0</td>\n",
       "      <td>0.0</td>\n",
       "      <td>1</td>\n",
       "      <td>1</td>\n",
       "      <td>1</td>\n",
       "      <td>1</td>\n",
       "      <td>1</td>\n",
       "    </tr>\n",
       "    <tr>\n",
       "      <th>4</th>\n",
       "      <td>B96436391972106043</td>\n",
       "      <td>2018-10-19</td>\n",
       "      <td>2018-10-19</td>\n",
       "      <td>A</td>\n",
       "      <td>0</td>\n",
       "      <td>0</td>\n",
       "      <td>0</td>\n",
       "      <td>0</td>\n",
       "      <td>0.0</td>\n",
       "      <td>0.0</td>\n",
       "      <td>...</td>\n",
       "      <td>0.0</td>\n",
       "      <td>0.0</td>\n",
       "      <td>0.0</td>\n",
       "      <td>0.0</td>\n",
       "      <td>0.0</td>\n",
       "      <td>1</td>\n",
       "      <td>1</td>\n",
       "      <td>1</td>\n",
       "      <td>1</td>\n",
       "      <td>1</td>\n",
       "    </tr>\n",
       "  </tbody>\n",
       "</table>\n",
       "<p>5 rows × 74 columns</p>\n",
       "</div>"
      ],
      "text/plain": [
       "                  uid   create_dt oil_actv_dt class_new  bad_ind  dtn  \\\n",
       "0  B96436391985035703  2018-10-08  2018-10-08         B        0    0   \n",
       "1  B96436391984693397  2018-10-11  2018-10-11         E        0    0   \n",
       "2  B96436391977217468  2018-10-17  2018-10-17         B        0    0   \n",
       "3  B96436391976480892  2018-09-28  2018-09-28         B        0    0   \n",
       "4  B96436391972106043  2018-10-19  2018-10-19         A        0    0   \n",
       "\n",
       "   oil_amount_cnt  oil_amount_num  oil_amount_tot  oil_amount_avg  ...  \\\n",
       "0               0               0             0.0             0.0  ...   \n",
       "1               0               0             0.0             0.0  ...   \n",
       "2               0               0             0.0             0.0  ...   \n",
       "3               0               0             0.0             0.0  ...   \n",
       "4               0               0             0.0             0.0  ...   \n",
       "\n",
       "   payment_coupon_amount_max  payment_coupon_amount_min  \\\n",
       "0                        0.0                        0.0   \n",
       "1                        0.0                        0.0   \n",
       "2                        0.0                        0.0   \n",
       "3                        0.0                        0.0   \n",
       "4                        0.0                        0.0   \n",
       "\n",
       "   payment_coupon_amount_var  payment_coupon_amount_t  \\\n",
       "0                        0.0                      0.0   \n",
       "1                        0.0                      0.0   \n",
       "2                        0.0                      0.0   \n",
       "3                        0.0                      0.0   \n",
       "4                        0.0                      0.0   \n",
       "\n",
       "   payment_coupon_amount_tar  channel_code_dstc  oil_code_dstc  scene_dstc  \\\n",
       "0                        0.0                  1              1           1   \n",
       "1                        0.0                  1              1           1   \n",
       "2                        0.0                  1              1           1   \n",
       "3                        0.0                  1              1           1   \n",
       "4                        0.0                  1              1           1   \n",
       "\n",
       "   source_app_dstc  call_source_dstc  \n",
       "0                1                 1  \n",
       "1                1                 1  \n",
       "2                1                 1  \n",
       "3                1                 1  \n",
       "4                1                 1  \n",
       "\n",
       "[5 rows x 74 columns]"
      ]
     },
     "execution_count": 40,
     "metadata": {},
     "output_type": "execute_result"
    }
   ],
   "source": [
    "m = pd.read_csv('processing_data.csv')\n",
    "m.head()"
   ]
  },
  {
   "cell_type": "markdown",
   "metadata": {},
   "source": [
    "## 决策树进行训练"
   ]
  },
  {
   "cell_type": "code",
   "execution_count": 29,
   "metadata": {
    "ExecuteTime": {
     "end_time": "2020-07-09T08:12:46.706663Z",
     "start_time": "2020-07-09T08:12:45.586592Z"
    }
   },
   "outputs": [],
   "source": [
    "x = fn.drop(['uid','oil_actv_dt','create_dt','bad_ind','class_new'],axis = 1)\n",
    "y = fn.bad_ind.copy()\n",
    "from sklearn import tree\n",
    "\n",
    "dtree = tree.DecisionTreeRegressor(max_depth = 2,min_samples_leaf = 500,min_samples_split = 5000)\n",
    "dtree = dtree.fit(x,y)"
   ]
  },
  {
   "cell_type": "markdown",
   "metadata": {
    "ExecuteTime": {
     "end_time": "2019-08-24T09:48:16.525123Z",
     "start_time": "2019-08-24T09:48:16.517144Z"
    }
   },
   "source": [
    "输出决策树图像，并作出决策"
   ]
  },
  {
   "cell_type": "code",
   "execution_count": 30,
   "metadata": {
    "ExecuteTime": {
     "end_time": "2020-07-09T08:12:49.367232Z",
     "start_time": "2020-07-09T08:12:49.298257Z"
    }
   },
   "outputs": [],
   "source": [
    "import pydotplus \n",
    "from IPython.display import Image\n",
    "from six import StringIO\n",
    "with open(\"dt.dot\", \"w\") as f:\n",
    "    tree.export_graphviz(dtree, out_file=f)\n",
    "dot_data = StringIO()\n",
    "tree.export_graphviz(dtree, out_file=dot_data,\n",
    "                         feature_names=x.columns,\n",
    "                         class_names=['bad_ind'],\n",
    "                         filled=True, rounded=True,\n",
    "                         special_characters=True)\n",
    "graph = pydotplus.graph_from_dot_data(dot_data.getvalue()) \n"
   ]
  },
  {
   "cell_type": "code",
   "execution_count": 31,
   "metadata": {
    "ExecuteTime": {
     "end_time": "2020-07-09T08:12:53.148062Z",
     "start_time": "2020-07-09T08:12:51.079079Z"
    }
   },
   "outputs": [
    {
     "data": {
      "image/png": "[encoded data removed]",
      "text/plain": [
       "<IPython.core.display.Image object>"
      ]
     },
     "execution_count": 31,
     "metadata": {},
     "output_type": "execute_result"
    }
   ],
   "source": [
    "import os\n",
    " #这是我自己的路径，注意修改你的路径\n",
    "os.environ[\"PATH\"] += os.pathsep + r'C:\\Users\\yhd\\PycharmProjects\\FinaceAI\\规则挖掘\\graphviz-2.38\\release\\bin' \n",
    "Image(graph.create_png())"
   ]
  },
  {
   "cell_type": "markdown",
   "metadata": {},
   "source": [
    "重新计算坏账率"
   ]
  },
  {
   "cell_type": "code",
   "execution_count": 32,
   "metadata": {
    "ExecuteTime": {
     "end_time": "2020-07-09T08:14:13.667154Z",
     "start_time": "2020-07-09T08:14:13.661168Z"
    }
   },
   "outputs": [
    {
     "data": {
      "text/plain": [
       "0.04658077304261645"
      ]
     },
     "execution_count": 32,
     "metadata": {},
     "output_type": "execute_result"
    }
   ],
   "source": [
    "sum(fn.bad_ind)/len(fn.bad_ind)"
   ]
  },
  {
   "cell_type": "markdown",
   "metadata": {
    "ExecuteTime": {
     "end_time": "2020-07-09T08:14:03.908497Z",
     "start_time": "2020-07-09T08:14:03.780262Z"
    }
   },
   "source": [
    "生成策略"
   ]
  },
  {
   "cell_type": "code",
   "execution_count": 33,
   "metadata": {
    "ExecuteTime": {
     "end_time": "2020-07-09T08:14:14.619319Z",
     "start_time": "2020-07-09T08:14:14.602304Z"
    }
   },
   "outputs": [],
   "source": [
    "dff1 = fn.loc[(fn.amount_tot>48077.5)&(fn.coupon_amount_cnt>3.5)].copy()\n",
    "dff1['level'] = 'oil_A'\n",
    "dff2 = fn.loc[(fn.amount_tot>48077.5)&(fn.coupon_amount_cnt<=3.5)].copy()\n",
    "dff2['level'] = 'oil_B'\n",
    "dff3 = fn.loc[(fn.amount_tot<=48077.5)].copy()\n",
    "dff3['level'] = 'oil_C'"
   ]
  },
  {
   "cell_type": "code",
   "execution_count": 34,
   "metadata": {
    "ExecuteTime": {
     "end_time": "2020-07-09T08:14:14.812809Z",
     "start_time": "2020-07-09T08:14:14.793817Z"
    }
   },
   "outputs": [
    {
     "data": {
      "text/html": [
       "<div>\n",
       "<style scoped>\n",
       "    .dataframe tbody tr th:only-of-type {\n",
       "        vertical-align: middle;\n",
       "    }\n",
       "\n",
       "    .dataframe tbody tr th {\n",
       "        vertical-align: top;\n",
       "    }\n",
       "\n",
       "    .dataframe thead th {\n",
       "        text-align: right;\n",
       "    }\n",
       "</style>\n",
       "<table border=\"1\" class=\"dataframe\">\n",
       "  <thead>\n",
       "    <tr style=\"text-align: right;\">\n",
       "      <th></th>\n",
       "      <th>uid</th>\n",
       "      <th>create_dt</th>\n",
       "      <th>oil_actv_dt</th>\n",
       "      <th>class_new</th>\n",
       "      <th>bad_ind</th>\n",
       "      <th>dtn</th>\n",
       "      <th>oil_amount_cnt</th>\n",
       "      <th>oil_amount_num</th>\n",
       "      <th>oil_amount_tot</th>\n",
       "      <th>oil_amount_avg</th>\n",
       "      <th>...</th>\n",
       "      <th>payment_coupon_amount_min</th>\n",
       "      <th>payment_coupon_amount_var</th>\n",
       "      <th>payment_coupon_amount_t</th>\n",
       "      <th>payment_coupon_amount_tar</th>\n",
       "      <th>channel_code_dstc</th>\n",
       "      <th>oil_code_dstc</th>\n",
       "      <th>scene_dstc</th>\n",
       "      <th>source_app_dstc</th>\n",
       "      <th>call_source_dstc</th>\n",
       "      <th>level</th>\n",
       "    </tr>\n",
       "  </thead>\n",
       "  <tbody>\n",
       "    <tr>\n",
       "      <th>212</th>\n",
       "      <td>A9988361</td>\n",
       "      <td>2018-07-26</td>\n",
       "      <td>2018-08-20</td>\n",
       "      <td>B</td>\n",
       "      <td>0</td>\n",
       "      <td>25</td>\n",
       "      <td>9</td>\n",
       "      <td>9</td>\n",
       "      <td>5502.94</td>\n",
       "      <td>611.437778</td>\n",
       "      <td>...</td>\n",
       "      <td>1.0</td>\n",
       "      <td>0.000000</td>\n",
       "      <td>0.0</td>\n",
       "      <td>1.000000</td>\n",
       "      <td>1</td>\n",
       "      <td>1</td>\n",
       "      <td>1</td>\n",
       "      <td>1</td>\n",
       "      <td>1</td>\n",
       "      <td>oil_A</td>\n",
       "    </tr>\n",
       "    <tr>\n",
       "      <th>221</th>\n",
       "      <td>A9960477</td>\n",
       "      <td>2018-07-10</td>\n",
       "      <td>2018-09-21</td>\n",
       "      <td>B</td>\n",
       "      <td>0</td>\n",
       "      <td>73</td>\n",
       "      <td>9</td>\n",
       "      <td>9</td>\n",
       "      <td>1366.50</td>\n",
       "      <td>151.833333</td>\n",
       "      <td>...</td>\n",
       "      <td>0.0</td>\n",
       "      <td>987.654321</td>\n",
       "      <td>100.0</td>\n",
       "      <td>88.888889</td>\n",
       "      <td>1</td>\n",
       "      <td>1</td>\n",
       "      <td>1</td>\n",
       "      <td>1</td>\n",
       "      <td>1</td>\n",
       "      <td>oil_A</td>\n",
       "    </tr>\n",
       "    <tr>\n",
       "      <th>232</th>\n",
       "      <td>A9942554</td>\n",
       "      <td>2018-07-31</td>\n",
       "      <td>2018-08-02</td>\n",
       "      <td>B</td>\n",
       "      <td>0</td>\n",
       "      <td>2</td>\n",
       "      <td>27</td>\n",
       "      <td>27</td>\n",
       "      <td>25324.72</td>\n",
       "      <td>937.952593</td>\n",
       "      <td>...</td>\n",
       "      <td>1.0</td>\n",
       "      <td>0.000000</td>\n",
       "      <td>0.0</td>\n",
       "      <td>1.000000</td>\n",
       "      <td>1</td>\n",
       "      <td>1</td>\n",
       "      <td>1</td>\n",
       "      <td>1</td>\n",
       "      <td>1</td>\n",
       "      <td>oil_A</td>\n",
       "    </tr>\n",
       "    <tr>\n",
       "      <th>236</th>\n",
       "      <td>A993610</td>\n",
       "      <td>2018-06-15</td>\n",
       "      <td>2018-08-17</td>\n",
       "      <td>B</td>\n",
       "      <td>0</td>\n",
       "      <td>63</td>\n",
       "      <td>5</td>\n",
       "      <td>5</td>\n",
       "      <td>4864.48</td>\n",
       "      <td>972.896000</td>\n",
       "      <td>...</td>\n",
       "      <td>1.0</td>\n",
       "      <td>0.000000</td>\n",
       "      <td>0.0</td>\n",
       "      <td>1.000000</td>\n",
       "      <td>1</td>\n",
       "      <td>1</td>\n",
       "      <td>1</td>\n",
       "      <td>1</td>\n",
       "      <td>2</td>\n",
       "      <td>oil_A</td>\n",
       "    </tr>\n",
       "    <tr>\n",
       "      <th>238</th>\n",
       "      <td>A9933539</td>\n",
       "      <td>2018-08-21</td>\n",
       "      <td>2018-08-24</td>\n",
       "      <td>B</td>\n",
       "      <td>0</td>\n",
       "      <td>3</td>\n",
       "      <td>22</td>\n",
       "      <td>22</td>\n",
       "      <td>23705.42</td>\n",
       "      <td>1077.519091</td>\n",
       "      <td>...</td>\n",
       "      <td>1.0</td>\n",
       "      <td>0.000000</td>\n",
       "      <td>0.0</td>\n",
       "      <td>1.000000</td>\n",
       "      <td>1</td>\n",
       "      <td>1</td>\n",
       "      <td>1</td>\n",
       "      <td>1</td>\n",
       "      <td>1</td>\n",
       "      <td>oil_A</td>\n",
       "    </tr>\n",
       "  </tbody>\n",
       "</table>\n",
       "<p>5 rows × 75 columns</p>\n",
       "</div>"
      ],
      "text/plain": [
       "          uid  create_dt oil_actv_dt class_new  bad_ind  dtn  oil_amount_cnt  \\\n",
       "212  A9988361 2018-07-26  2018-08-20         B        0   25               9   \n",
       "221  A9960477 2018-07-10  2018-09-21         B        0   73               9   \n",
       "232  A9942554 2018-07-31  2018-08-02         B        0    2              27   \n",
       "236   A993610 2018-06-15  2018-08-17         B        0   63               5   \n",
       "238  A9933539 2018-08-21  2018-08-24         B        0    3              22   \n",
       "\n",
       "     oil_amount_num  oil_amount_tot  oil_amount_avg  ...  \\\n",
       "212               9         5502.94      611.437778  ...   \n",
       "221               9         1366.50      151.833333  ...   \n",
       "232              27        25324.72      937.952593  ...   \n",
       "236               5         4864.48      972.896000  ...   \n",
       "238              22        23705.42     1077.519091  ...   \n",
       "\n",
       "     payment_coupon_amount_min  payment_coupon_amount_var  \\\n",
       "212                        1.0                   0.000000   \n",
       "221                        0.0                 987.654321   \n",
       "232                        1.0                   0.000000   \n",
       "236                        1.0                   0.000000   \n",
       "238                        1.0                   0.000000   \n",
       "\n",
       "     payment_coupon_amount_t  payment_coupon_amount_tar  channel_code_dstc  \\\n",
       "212                      0.0                   1.000000                  1   \n",
       "221                    100.0                  88.888889                  1   \n",
       "232                      0.0                   1.000000                  1   \n",
       "236                      0.0                   1.000000                  1   \n",
       "238                      0.0                   1.000000                  1   \n",
       "\n",
       "     oil_code_dstc  scene_dstc  source_app_dstc  call_source_dstc  level  \n",
       "212              1           1                1                 1  oil_A  \n",
       "221              1           1                1                 1  oil_A  \n",
       "232              1           1                1                 1  oil_A  \n",
       "236              1           1                1                 2  oil_A  \n",
       "238              1           1                1                 1  oil_A  \n",
       "\n",
       "[5 rows x 75 columns]"
      ]
     },
     "execution_count": 34,
     "metadata": {},
     "output_type": "execute_result"
    }
   ],
   "source": [
    "dff1.head()"
   ]
  },
  {
   "cell_type": "code",
   "execution_count": 35,
   "metadata": {
    "ExecuteTime": {
     "end_time": "2020-07-09T08:14:15.258762Z",
     "start_time": "2020-07-09T08:14:15.202255Z"
    }
   },
   "outputs": [
    {
     "data": {
      "text/html": [
       "<div>\n",
       "<style scoped>\n",
       "    .dataframe tbody tr th:only-of-type {\n",
       "        vertical-align: middle;\n",
       "    }\n",
       "\n",
       "    .dataframe tbody tr th {\n",
       "        vertical-align: top;\n",
       "    }\n",
       "\n",
       "    .dataframe thead th {\n",
       "        text-align: right;\n",
       "    }\n",
       "</style>\n",
       "<table border=\"1\" class=\"dataframe\">\n",
       "  <thead>\n",
       "    <tr style=\"text-align: right;\">\n",
       "      <th></th>\n",
       "      <th>uid</th>\n",
       "      <th>create_dt</th>\n",
       "      <th>oil_actv_dt</th>\n",
       "      <th>class_new</th>\n",
       "      <th>bad_ind</th>\n",
       "      <th>dtn</th>\n",
       "      <th>oil_amount_cnt</th>\n",
       "      <th>oil_amount_num</th>\n",
       "      <th>oil_amount_tot</th>\n",
       "      <th>oil_amount_avg</th>\n",
       "      <th>...</th>\n",
       "      <th>payment_coupon_amount_min</th>\n",
       "      <th>payment_coupon_amount_var</th>\n",
       "      <th>payment_coupon_amount_t</th>\n",
       "      <th>payment_coupon_amount_tar</th>\n",
       "      <th>channel_code_dstc</th>\n",
       "      <th>oil_code_dstc</th>\n",
       "      <th>scene_dstc</th>\n",
       "      <th>source_app_dstc</th>\n",
       "      <th>call_source_dstc</th>\n",
       "      <th>level</th>\n",
       "    </tr>\n",
       "  </thead>\n",
       "  <tbody>\n",
       "    <tr>\n",
       "      <th>0</th>\n",
       "      <td>A9988361</td>\n",
       "      <td>2018-07-26</td>\n",
       "      <td>2018-08-20</td>\n",
       "      <td>B</td>\n",
       "      <td>0</td>\n",
       "      <td>25</td>\n",
       "      <td>9</td>\n",
       "      <td>9</td>\n",
       "      <td>5502.94</td>\n",
       "      <td>611.437778</td>\n",
       "      <td>...</td>\n",
       "      <td>1.0</td>\n",
       "      <td>0.000000</td>\n",
       "      <td>0.0</td>\n",
       "      <td>1.000000</td>\n",
       "      <td>1</td>\n",
       "      <td>1</td>\n",
       "      <td>1</td>\n",
       "      <td>1</td>\n",
       "      <td>1</td>\n",
       "      <td>oil_A</td>\n",
       "    </tr>\n",
       "    <tr>\n",
       "      <th>1</th>\n",
       "      <td>A9960477</td>\n",
       "      <td>2018-07-10</td>\n",
       "      <td>2018-09-21</td>\n",
       "      <td>B</td>\n",
       "      <td>0</td>\n",
       "      <td>73</td>\n",
       "      <td>9</td>\n",
       "      <td>9</td>\n",
       "      <td>1366.50</td>\n",
       "      <td>151.833333</td>\n",
       "      <td>...</td>\n",
       "      <td>0.0</td>\n",
       "      <td>987.654321</td>\n",
       "      <td>100.0</td>\n",
       "      <td>88.888889</td>\n",
       "      <td>1</td>\n",
       "      <td>1</td>\n",
       "      <td>1</td>\n",
       "      <td>1</td>\n",
       "      <td>1</td>\n",
       "      <td>oil_A</td>\n",
       "    </tr>\n",
       "    <tr>\n",
       "      <th>2</th>\n",
       "      <td>A9942554</td>\n",
       "      <td>2018-07-31</td>\n",
       "      <td>2018-08-02</td>\n",
       "      <td>B</td>\n",
       "      <td>0</td>\n",
       "      <td>2</td>\n",
       "      <td>27</td>\n",
       "      <td>27</td>\n",
       "      <td>25324.72</td>\n",
       "      <td>937.952593</td>\n",
       "      <td>...</td>\n",
       "      <td>1.0</td>\n",
       "      <td>0.000000</td>\n",
       "      <td>0.0</td>\n",
       "      <td>1.000000</td>\n",
       "      <td>1</td>\n",
       "      <td>1</td>\n",
       "      <td>1</td>\n",
       "      <td>1</td>\n",
       "      <td>1</td>\n",
       "      <td>oil_A</td>\n",
       "    </tr>\n",
       "    <tr>\n",
       "      <th>3</th>\n",
       "      <td>A993610</td>\n",
       "      <td>2018-06-15</td>\n",
       "      <td>2018-08-17</td>\n",
       "      <td>B</td>\n",
       "      <td>0</td>\n",
       "      <td>63</td>\n",
       "      <td>5</td>\n",
       "      <td>5</td>\n",
       "      <td>4864.48</td>\n",
       "      <td>972.896000</td>\n",
       "      <td>...</td>\n",
       "      <td>1.0</td>\n",
       "      <td>0.000000</td>\n",
       "      <td>0.0</td>\n",
       "      <td>1.000000</td>\n",
       "      <td>1</td>\n",
       "      <td>1</td>\n",
       "      <td>1</td>\n",
       "      <td>1</td>\n",
       "      <td>2</td>\n",
       "      <td>oil_A</td>\n",
       "    </tr>\n",
       "    <tr>\n",
       "      <th>4</th>\n",
       "      <td>A9933539</td>\n",
       "      <td>2018-08-21</td>\n",
       "      <td>2018-08-24</td>\n",
       "      <td>B</td>\n",
       "      <td>0</td>\n",
       "      <td>3</td>\n",
       "      <td>22</td>\n",
       "      <td>22</td>\n",
       "      <td>23705.42</td>\n",
       "      <td>1077.519091</td>\n",
       "      <td>...</td>\n",
       "      <td>1.0</td>\n",
       "      <td>0.000000</td>\n",
       "      <td>0.0</td>\n",
       "      <td>1.000000</td>\n",
       "      <td>1</td>\n",
       "      <td>1</td>\n",
       "      <td>1</td>\n",
       "      <td>1</td>\n",
       "      <td>1</td>\n",
       "      <td>oil_A</td>\n",
       "    </tr>\n",
       "  </tbody>\n",
       "</table>\n",
       "<p>5 rows × 75 columns</p>\n",
       "</div>"
      ],
      "text/plain": [
       "        uid  create_dt oil_actv_dt class_new  bad_ind  dtn  oil_amount_cnt  \\\n",
       "0  A9988361 2018-07-26  2018-08-20         B        0   25               9   \n",
       "1  A9960477 2018-07-10  2018-09-21         B        0   73               9   \n",
       "2  A9942554 2018-07-31  2018-08-02         B        0    2              27   \n",
       "3   A993610 2018-06-15  2018-08-17         B        0   63               5   \n",
       "4  A9933539 2018-08-21  2018-08-24         B        0    3              22   \n",
       "\n",
       "   oil_amount_num  oil_amount_tot  oil_amount_avg  ...  \\\n",
       "0               9         5502.94      611.437778  ...   \n",
       "1               9         1366.50      151.833333  ...   \n",
       "2              27        25324.72      937.952593  ...   \n",
       "3               5         4864.48      972.896000  ...   \n",
       "4              22        23705.42     1077.519091  ...   \n",
       "\n",
       "   payment_coupon_amount_min  payment_coupon_amount_var  \\\n",
       "0                        1.0                   0.000000   \n",
       "1                        0.0                 987.654321   \n",
       "2                        1.0                   0.000000   \n",
       "3                        1.0                   0.000000   \n",
       "4                        1.0                   0.000000   \n",
       "\n",
       "   payment_coupon_amount_t  payment_coupon_amount_tar  channel_code_dstc  \\\n",
       "0                      0.0                   1.000000                  1   \n",
       "1                    100.0                  88.888889                  1   \n",
       "2                      0.0                   1.000000                  1   \n",
       "3                      0.0                   1.000000                  1   \n",
       "4                      0.0                   1.000000                  1   \n",
       "\n",
       "   oil_code_dstc  scene_dstc  source_app_dstc  call_source_dstc  level  \n",
       "0              1           1                1                 1  oil_A  \n",
       "1              1           1                1                 1  oil_A  \n",
       "2              1           1                1                 1  oil_A  \n",
       "3              1           1                1                 2  oil_A  \n",
       "4              1           1                1                 1  oil_A  \n",
       "\n",
       "[5 rows x 75 columns]"
      ]
     },
     "execution_count": 35,
     "metadata": {},
     "output_type": "execute_result"
    }
   ],
   "source": [
    "dff1 = dff1.append(dff2)\n",
    "dff1 = dff1.append(dff3)\n",
    "dff1 = dff1.reset_index(drop = True)\n",
    "dff1.head()"
   ]
  },
  {
   "cell_type": "code",
   "execution_count": 36,
   "metadata": {
    "ExecuteTime": {
     "end_time": "2020-07-09T08:14:15.439285Z",
     "start_time": "2020-07-09T08:14:15.434359Z"
    }
   },
   "outputs": [
    {
     "data": {
      "text/plain": [
       "(11099, 75)"
      ]
     },
     "execution_count": 36,
     "metadata": {},
     "output_type": "execute_result"
    }
   ],
   "source": [
    "dff1.shape"
   ]
  },
  {
   "cell_type": "code",
   "execution_count": 37,
   "metadata": {
    "ExecuteTime": {
     "end_time": "2020-07-09T08:14:15.909414Z",
     "start_time": "2020-07-09T08:14:15.809916Z"
    }
   },
   "outputs": [
    {
     "data": {
      "text/html": [
       "<div>\n",
       "<style scoped>\n",
       "    .dataframe tbody tr th:only-of-type {\n",
       "        vertical-align: middle;\n",
       "    }\n",
       "\n",
       "    .dataframe tbody tr th {\n",
       "        vertical-align: top;\n",
       "    }\n",
       "\n",
       "    .dataframe thead th {\n",
       "        text-align: right;\n",
       "    }\n",
       "</style>\n",
       "<table border=\"1\" class=\"dataframe\">\n",
       "  <thead>\n",
       "    <tr style=\"text-align: right;\">\n",
       "      <th></th>\n",
       "      <th>class_new</th>\n",
       "      <th>level</th>\n",
       "      <th>bad_ind</th>\n",
       "      <th>uid</th>\n",
       "      <th>oil_actv_dt</th>\n",
       "      <th>bad_ind</th>\n",
       "    </tr>\n",
       "  </thead>\n",
       "  <tbody>\n",
       "    <tr>\n",
       "      <th>0</th>\n",
       "      <td>B</td>\n",
       "      <td>oil_A</td>\n",
       "      <td>0</td>\n",
       "      <td>A9988361</td>\n",
       "      <td>2018-08</td>\n",
       "      <td>0</td>\n",
       "    </tr>\n",
       "    <tr>\n",
       "      <th>1</th>\n",
       "      <td>B</td>\n",
       "      <td>oil_A</td>\n",
       "      <td>0</td>\n",
       "      <td>A9960477</td>\n",
       "      <td>2018-09</td>\n",
       "      <td>0</td>\n",
       "    </tr>\n",
       "    <tr>\n",
       "      <th>2</th>\n",
       "      <td>B</td>\n",
       "      <td>oil_A</td>\n",
       "      <td>0</td>\n",
       "      <td>A9942554</td>\n",
       "      <td>2018-08</td>\n",
       "      <td>0</td>\n",
       "    </tr>\n",
       "    <tr>\n",
       "      <th>3</th>\n",
       "      <td>B</td>\n",
       "      <td>oil_A</td>\n",
       "      <td>0</td>\n",
       "      <td>A993610</td>\n",
       "      <td>2018-08</td>\n",
       "      <td>0</td>\n",
       "    </tr>\n",
       "    <tr>\n",
       "      <th>4</th>\n",
       "      <td>B</td>\n",
       "      <td>oil_A</td>\n",
       "      <td>0</td>\n",
       "      <td>A9933539</td>\n",
       "      <td>2018-08</td>\n",
       "      <td>0</td>\n",
       "    </tr>\n",
       "  </tbody>\n",
       "</table>\n",
       "</div>"
      ],
      "text/plain": [
       "  class_new  level  bad_ind       uid oil_actv_dt  bad_ind\n",
       "0         B  oil_A        0  A9988361     2018-08        0\n",
       "1         B  oil_A        0  A9960477     2018-09        0\n",
       "2         B  oil_A        0  A9942554     2018-08        0\n",
       "3         B  oil_A        0   A993610     2018-08        0\n",
       "4         B  oil_A        0  A9933539     2018-08        0"
      ]
     },
     "execution_count": 37,
     "metadata": {},
     "output_type": "execute_result"
    }
   ],
   "source": [
    "last = dff1[['class_new','level','bad_ind','uid','oil_actv_dt','bad_ind']].copy()\n",
    "last['oil_actv_dt'] = last['oil_actv_dt'] .apply(lambda x:str(x)[:7]).copy()\n",
    "last.head(5)"
   ]
  },
  {
   "cell_type": "code",
   "execution_count": 38,
   "metadata": {
    "ExecuteTime": {
     "end_time": "2020-07-09T08:14:17.358670Z",
     "start_time": "2020-07-09T08:14:16.345733Z"
    }
   },
   "outputs": [],
   "source": [
    "last.to_excel('final_report.xlsx',index = False)"
   ]
  },
  {
   "cell_type": "code",
   "execution_count": 39,
   "metadata": {
    "ExecuteTime": {
     "end_time": "2020-07-09T08:14:27.423989Z",
     "start_time": "2020-07-09T08:14:17.358670Z"
    }
   },
   "outputs": [],
   "source": [
    "fn.to_excel('fina.xlsx',index = False)"
   ]
  },
  {
   "cell_type": "code",
   "execution_count": null,
   "metadata": {},
   "outputs": [],
   "source": []
  }
 ],
 "metadata": {
  "kernelspec": {
   "display_name": "Python 3 (ipykernel)",
   "language": "python",
   "name": "python3"
  },
  "language_info": {
   "codemirror_mode": {
    "name": "ipython",
    "version": 3
   },
   "file_extension": ".py",
   "mimetype": "text/x-python",
   "name": "python",
   "nbconvert_exporter": "python",
   "pygments_lexer": "ipython3",
   "version": "3.7.4"
  },
  "toc": {
   "base_numbering": 1,
   "nav_menu": {},
   "number_sections": true,
   "sideBar": true,
   "skip_h1_title": false,
   "title_cell": "Table of Contents",
   "title_sidebar": "Contents",
   "toc_cell": true,
   "toc_position": {},
   "toc_section_display": true,
   "toc_window_display": false
  }
 },
 "nbformat": 4,
 "nbformat_minor": 2
}