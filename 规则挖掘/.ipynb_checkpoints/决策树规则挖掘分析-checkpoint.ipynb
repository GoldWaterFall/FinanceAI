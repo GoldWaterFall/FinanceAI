{
 "cells": [
  {
   "cell_type": "markdown",
   "metadata": {},
   "source": [
    "## 导入相关的包"
   ]
  },
  {
   "cell_type": "code",
   "execution_count": 1,
   "metadata": {
    "ExecuteTime": {
     "end_time": "2020-07-08T06:49:38.828117Z",
     "start_time": "2020-07-08T06:49:38.472760Z"
    }
   },
   "outputs": [],
   "source": [
    "import pandas as pd\n",
    "import numpy as np\n",
    "\n",
    "#消除Warning\n",
    "import warnings\n",
    "warnings.filterwarnings(\"ignore\")"
   ]
  },
  {
   "cell_type": "markdown",
   "metadata": {},
   "source": [
    "## 读取油品数据集"
   ]
  },
  {
   "cell_type": "code",
   "execution_count": 2,
   "metadata": {
    "ExecuteTime": {
     "end_time": "2020-07-08T06:50:28.994639Z",
     "start_time": "2020-07-08T06:50:16.870237Z"
    }
   },
   "outputs": [
    {
     "data": {
      "text/html": [
       "<div>\n",
       "<style scoped>\n",
       "    .dataframe tbody tr th:only-of-type {\n",
       "        vertical-align: middle;\n",
       "    }\n",
       "\n",
       "    .dataframe tbody tr th {\n",
       "        vertical-align: top;\n",
       "    }\n",
       "\n",
       "    .dataframe thead th {\n",
       "        text-align: right;\n",
       "    }\n",
       "</style>\n",
       "<table border=\"1\" class=\"dataframe\">\n",
       "  <thead>\n",
       "    <tr style=\"text-align: right;\">\n",
       "      <th></th>\n",
       "      <th>uid</th>\n",
       "      <th>oil_actv_dt</th>\n",
       "      <th>create_dt</th>\n",
       "      <th>total_oil_cnt</th>\n",
       "      <th>pay_amount_total</th>\n",
       "      <th>class_new</th>\n",
       "      <th>bad_ind</th>\n",
       "      <th>oil_amount</th>\n",
       "      <th>discount_amount</th>\n",
       "      <th>sale_amount</th>\n",
       "      <th>amount</th>\n",
       "      <th>pay_amount</th>\n",
       "      <th>coupon_amount</th>\n",
       "      <th>payment_coupon_amount</th>\n",
       "      <th>channel_code</th>\n",
       "      <th>oil_code</th>\n",
       "      <th>scene</th>\n",
       "      <th>source_app</th>\n",
       "      <th>call_source</th>\n",
       "    </tr>\n",
       "  </thead>\n",
       "  <tbody>\n",
       "    <tr>\n",
       "      <th>0</th>\n",
       "      <td>A8217710</td>\n",
       "      <td>2018-08-19</td>\n",
       "      <td>2018-08-17</td>\n",
       "      <td>275.0</td>\n",
       "      <td>48295495.4</td>\n",
       "      <td>B</td>\n",
       "      <td>0</td>\n",
       "      <td>3308.56</td>\n",
       "      <td>1760081.0</td>\n",
       "      <td>1796001.0</td>\n",
       "      <td>1731081.0</td>\n",
       "      <td>8655401.0</td>\n",
       "      <td>1.0</td>\n",
       "      <td>1.0</td>\n",
       "      <td>1</td>\n",
       "      <td>3</td>\n",
       "      <td>2</td>\n",
       "      <td>0</td>\n",
       "      <td>3</td>\n",
       "    </tr>\n",
       "    <tr>\n",
       "      <th>1</th>\n",
       "      <td>A8217710</td>\n",
       "      <td>2018-08-19</td>\n",
       "      <td>2018-08-16</td>\n",
       "      <td>275.0</td>\n",
       "      <td>48295495.4</td>\n",
       "      <td>B</td>\n",
       "      <td>0</td>\n",
       "      <td>4674.68</td>\n",
       "      <td>2487045.0</td>\n",
       "      <td>2537801.0</td>\n",
       "      <td>2437845.0</td>\n",
       "      <td>12189221.0</td>\n",
       "      <td>1.0</td>\n",
       "      <td>1.0</td>\n",
       "      <td>1</td>\n",
       "      <td>3</td>\n",
       "      <td>2</td>\n",
       "      <td>0</td>\n",
       "      <td>3</td>\n",
       "    </tr>\n",
       "    <tr>\n",
       "      <th>2</th>\n",
       "      <td>A8217710</td>\n",
       "      <td>2018-08-19</td>\n",
       "      <td>2018-08-15</td>\n",
       "      <td>275.0</td>\n",
       "      <td>48295495.4</td>\n",
       "      <td>B</td>\n",
       "      <td>0</td>\n",
       "      <td>1873.06</td>\n",
       "      <td>977845.0</td>\n",
       "      <td>997801.0</td>\n",
       "      <td>961845.0</td>\n",
       "      <td>4809221.0</td>\n",
       "      <td>1.0</td>\n",
       "      <td>1.0</td>\n",
       "      <td>1</td>\n",
       "      <td>2</td>\n",
       "      <td>2</td>\n",
       "      <td>0</td>\n",
       "      <td>3</td>\n",
       "    </tr>\n",
       "    <tr>\n",
       "      <th>3</th>\n",
       "      <td>A8217710</td>\n",
       "      <td>2018-08-19</td>\n",
       "      <td>2018-08-14</td>\n",
       "      <td>275.0</td>\n",
       "      <td>48295495.4</td>\n",
       "      <td>B</td>\n",
       "      <td>0</td>\n",
       "      <td>4837.78</td>\n",
       "      <td>2526441.0</td>\n",
       "      <td>2578001.0</td>\n",
       "      <td>2484441.0</td>\n",
       "      <td>12422201.0</td>\n",
       "      <td>1.0</td>\n",
       "      <td>1.0</td>\n",
       "      <td>1</td>\n",
       "      <td>2</td>\n",
       "      <td>2</td>\n",
       "      <td>0</td>\n",
       "      <td>3</td>\n",
       "    </tr>\n",
       "    <tr>\n",
       "      <th>4</th>\n",
       "      <td>A8217710</td>\n",
       "      <td>2018-08-19</td>\n",
       "      <td>2018-08-13</td>\n",
       "      <td>275.0</td>\n",
       "      <td>48295495.4</td>\n",
       "      <td>B</td>\n",
       "      <td>0</td>\n",
       "      <td>2586.38</td>\n",
       "      <td>1350441.0</td>\n",
       "      <td>1378001.0</td>\n",
       "      <td>1328441.0</td>\n",
       "      <td>6642201.0</td>\n",
       "      <td>1.0</td>\n",
       "      <td>1.0</td>\n",
       "      <td>1</td>\n",
       "      <td>2</td>\n",
       "      <td>2</td>\n",
       "      <td>0</td>\n",
       "      <td>3</td>\n",
       "    </tr>\n",
       "  </tbody>\n",
       "</table>\n",
       "</div>"
      ],
      "text/plain": [
       "        uid oil_actv_dt  create_dt  total_oil_cnt  pay_amount_total class_new  \\\n",
       "0  A8217710  2018-08-19 2018-08-17          275.0        48295495.4         B   \n",
       "1  A8217710  2018-08-19 2018-08-16          275.0        48295495.4         B   \n",
       "2  A8217710  2018-08-19 2018-08-15          275.0        48295495.4         B   \n",
       "3  A8217710  2018-08-19 2018-08-14          275.0        48295495.4         B   \n",
       "4  A8217710  2018-08-19 2018-08-13          275.0        48295495.4         B   \n",
       "\n",
       "   bad_ind  oil_amount  discount_amount  sale_amount     amount  pay_amount  \\\n",
       "0        0     3308.56        1760081.0    1796001.0  1731081.0   8655401.0   \n",
       "1        0     4674.68        2487045.0    2537801.0  2437845.0  12189221.0   \n",
       "2        0     1873.06         977845.0     997801.0   961845.0   4809221.0   \n",
       "3        0     4837.78        2526441.0    2578001.0  2484441.0  12422201.0   \n",
       "4        0     2586.38        1350441.0    1378001.0  1328441.0   6642201.0   \n",
       "\n",
       "   coupon_amount  payment_coupon_amount  channel_code  oil_code  scene  \\\n",
       "0            1.0                    1.0             1         3      2   \n",
       "1            1.0                    1.0             1         3      2   \n",
       "2            1.0                    1.0             1         2      2   \n",
       "3            1.0                    1.0             1         2      2   \n",
       "4            1.0                    1.0             1         2      2   \n",
       "\n",
       "   source_app  call_source  \n",
       "0           0            3  \n",
       "1           0            3  \n",
       "2           0            3  \n",
       "3           0            3  \n",
       "4           0            3  "
      ]
     },
     "execution_count": 2,
     "metadata": {},
     "output_type": "execute_result"
    }
   ],
   "source": [
    "data = pd.read_excel('data/oil_data_for_tree.xlsx')\n",
    "data.head()"
   ]
  },
  {
   "cell_type": "markdown",
   "metadata": {},
   "source": [
    "查看数据相关信息"
   ]
  },
  {
   "cell_type": "code",
   "execution_count": null,
   "metadata": {},
   "outputs": [],
   "source": []
  },
  {
   "cell_type": "code",
   "execution_count": null,
   "metadata": {},
   "outputs": [],
   "source": []
  },
  {
   "cell_type": "markdown",
   "metadata": {},
   "source": [
    "计算下坏账率"
   ]
  },
  {
   "cell_type": "code",
   "execution_count": null,
   "metadata": {},
   "outputs": [],
   "source": []
  },
  {
   "cell_type": "markdown",
   "metadata": {},
   "source": [
    "## 将特征根据不同情况分为3类"
   ]
  },
  {
   "cell_type": "markdown",
   "metadata": {},
   "source": [
    "- org_lst 不需要做特殊变换，直接去重\n",
    "\n",
    "- agg_lst 数值型变量做聚合\n",
    "\n",
    "- dstc_lst 文本型变量做cnt"
   ]
  },
  {
   "cell_type": "code",
   "execution_count": null,
   "metadata": {},
   "outputs": [],
   "source": [
    "org_lst = ['uid','create_dt','oil_actv_dt','class_new','bad_ind']\n",
    "agg_lst = ['oil_amount','discount_amount','sale_amount','amount','pay_amount','coupon_amount','payment_coupon_amount']\n",
    "dstc_lst = ['channel_code','oil_code','scene','source_app','call_source']"
   ]
  },
  {
   "cell_type": "markdown",
   "metadata": {
    "ExecuteTime": {
     "end_time": "2020-07-08T06:54:27.752656Z",
     "start_time": "2020-07-08T06:54:27.654888Z"
    }
   },
   "source": [
    "数据重组"
   ]
  },
  {
   "cell_type": "code",
   "execution_count": null,
   "metadata": {},
   "outputs": [],
   "source": []
  },
  {
   "cell_type": "code",
   "execution_count": null,
   "metadata": {},
   "outputs": [],
   "source": []
  },
  {
   "cell_type": "markdown",
   "metadata": {},
   "source": [
    "## 对特征creat_dt进行补全"
   ]
  },
  {
   "cell_type": "markdown",
   "metadata": {},
   "source": [
    "对creat_dt做补全，用oil_actv_dt来填补，并且截取6个月的数据。  \n",
    "构造变量的时候不能直接对历史所有数据做累加。  \n",
    "否则随着时间推移，变量分布会有很大的变化。"
   ]
  },
  {
   "cell_type": "code",
   "execution_count": 4,
   "metadata": {
    "ExecuteTime": {
     "end_time": "2020-07-08T06:56:02.793949Z",
     "start_time": "2020-07-08T06:56:02.789922Z"
    }
   },
   "outputs": [],
   "source": [
    "#这里对creat_dt做补全，用oil_actv_dt来填补，并且截取6个月的数据。\n",
    "\n"
   ]
  },
  {
   "cell_type": "code",
   "execution_count": null,
   "metadata": {},
   "outputs": [],
   "source": [
    "# 这里可以看出，筛选掉日期差大于180天的数据后，减少了将近5000左右的数据\n"
   ]
  },
  {
   "cell_type": "markdown",
   "metadata": {},
   "source": [
    "## 对特征org_list进行处理"
   ]
  },
  {
   "cell_type": "markdown",
   "metadata": {},
   "source": [
    "对org_list求历史贷款天数的最大间隔，并且去重"
   ]
  },
  {
   "cell_type": "code",
   "execution_count": null,
   "metadata": {},
   "outputs": [],
   "source": []
  },
  {
   "cell_type": "markdown",
   "metadata": {},
   "source": [
    "## 变量衍生（重点）"
   ]
  },
  {
   "cell_type": "code",
   "execution_count": null,
   "metadata": {},
   "outputs": [],
   "source": [
    "\n",
    "\n"
   ]
  },
  {
   "cell_type": "markdown",
   "metadata": {},
   "source": [
    "对dstc_lst变量求distinct个数"
   ]
  },
  {
   "cell_type": "code",
   "execution_count": null,
   "metadata": {},
   "outputs": [],
   "source": []
  },
  {
   "cell_type": "markdown",
   "metadata": {},
   "source": [
    "将变量组合在一起"
   ]
  },
  {
   "cell_type": "code",
   "execution_count": null,
   "metadata": {},
   "outputs": [],
   "source": []
  },
  {
   "cell_type": "code",
   "execution_count": null,
   "metadata": {},
   "outputs": [],
   "source": []
  },
  {
   "cell_type": "markdown",
   "metadata": {},
   "source": [
    "## 用决策树进行训练"
   ]
  },
  {
   "cell_type": "code",
   "execution_count": null,
   "metadata": {},
   "outputs": [],
   "source": []
  },
  {
   "cell_type": "markdown",
   "metadata": {
    "ExecuteTime": {
     "end_time": "2020-07-08T07:00:16.396420Z",
     "start_time": "2020-07-08T07:00:16.391454Z"
    }
   },
   "source": [
    "输出决策树图像，并作出决策"
   ]
  },
  {
   "cell_type": "code",
   "execution_count": null,
   "metadata": {},
   "outputs": [],
   "source": [
    "import pydotplus \n",
    "from IPython.display import Image\n",
    "from sklearn.externals.six import StringIO\n",
    "with open(\"dt.dot\", \"w\") as f:\n",
    "    tree.export_graphviz(dtree, out_file=f)\n",
    "dot_data = StringIO()\n",
    "\n"
   ]
  },
  {
   "cell_type": "code",
   "execution_count": null,
   "metadata": {},
   "outputs": [],
   "source": [
    "import os\n",
    " #这是我自己的路径，注意修改你的路径\n",
    "os.environ[\"PATH\"] += os.pathsep + 'D:/软件/graphviz-2.38/release/bin/' \n",
    "Image(graph.create_png())"
   ]
  },
  {
   "cell_type": "code",
   "execution_count": null,
   "metadata": {},
   "outputs": [],
   "source": []
  },
  {
   "cell_type": "markdown",
   "metadata": {},
   "source": [
    "重新计算坏账率"
   ]
  },
  {
   "cell_type": "code",
   "execution_count": null,
   "metadata": {},
   "outputs": [],
   "source": []
  },
  {
   "cell_type": "markdown",
   "metadata": {},
   "source": [
    "生成策略"
   ]
  },
  {
   "cell_type": "code",
   "execution_count": null,
   "metadata": {},
   "outputs": [],
   "source": []
  }
 ],
 "metadata": {
  "kernelspec": {
   "display_name": "Python 3 (ipykernel)",
   "language": "python",
   "name": "python3"
  },
  "language_info": {
   "codemirror_mode": {
    "name": "ipython",
    "version": 3
   },
   "file_extension": ".py",
   "mimetype": "text/x-python",
   "name": "python",
   "nbconvert_exporter": "python",
   "pygments_lexer": "ipython3",
   "version": "3.7.4"
  },
  "toc": {
   "base_numbering": 1,
   "nav_menu": {},
   "number_sections": true,
   "sideBar": true,
   "skip_h1_title": false,
   "title_cell": "Table of Contents",
   "title_sidebar": "Contents",
   "toc_cell": false,
   "toc_position": {},
   "toc_section_display": true,
   "toc_window_display": true
  }
 },
 "nbformat": 4,
 "nbformat_minor": 4
}
